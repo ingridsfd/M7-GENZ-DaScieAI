{
  "cells": [
    {
      "cell_type": "markdown",
      "metadata": {
        "id": "tP4QvuPIdTNJ"
      },
      "source": [
        "## **Bootcamp: Ciencia de Datos e Inteligencia Artificial**\n",
        "## **Proyecto del Módulo 7: Técnicas avanzadas para ciencia de datos y empleabilidad**\n",
        "\n",
        "Hola, ya es el último proyecto, has avanzado y aprendido mucho hasta acá. ¡Muchas felicidades!\n",
        "\n",
        "Es hora de poner en práctica todo lo que hemos aprendido a lo largo de nuestra travesía.\n",
        "\n",
        "Lee el proyecto y revisa con cuidado cada una de las instrucciones. Procura plasmar todo tu potencial para que lo concluyas de manera sobresaliente.\n",
        "\n",
        "¡Éxito!"
      ]
    },
    {
      "cell_type": "markdown",
      "metadata": {
        "id": "urHRQIXyd2qi"
      },
      "source": [
        "## Objetivos\n",
        "- Aplicar con éxito todos los conocimientos que has adquirido a lo largo del Bootcamp.\n",
        "- Consolidar las técnicas de limpieza, entrenamiento, graficación y ajuste a modelos de *Machine Learning*.\n",
        "- Generar una API que brinde predicciones como resultado a partir de datos enviados.\n"
      ]
    },
    {
      "cell_type": "markdown",
      "metadata": {
        "id": "a3B0EcTX1uHW"
      },
      "source": [
        "## Layout personal del proyecto"
      ]
    },
    {
      "cell_type": "markdown",
      "metadata": {
        "id": "Ii-AKrR91xP5"
      },
      "source": [
        "En este apartado se puede encontrar:\n",
        "\n",
        "- Link directo a mi [google doc](https://docs.google.com/document/d/1nqIqVbWTDQlct2SE-HyeAtVsSHeOA8OGfVq9aoMTrJs/edit?usp=sharing) donde hago un reporte para llevar un control de investigación y desgloce del plantamiento del problema. Es el borrador que utilizo para darle forma a mi proyecto y argumentación sólida\n",
        "\n",
        "- Enlace a la presentación del proyecto [aquí](https://docs.google.com/presentation/d/1nxL0x9GVU28WsEynaZqYJQwpNiZgpV5feXF12tVysPw/edit?usp=sharing)\n",
        "\n",
        "- Vínculo a exploración de los datos en Excel [EDA Excel](https://scalamex-my.sharepoint.com/:x:/g/personal/infonoy_dsiac14_bootcamp_ucamp_io/EZ1HGwhfB0JKlANDxv55DEwBKglV8lOTh8gdtmgikilncQ?e=EixqQ3)\n",
        "\n",
        "- Vínculo al repositorio de [Github]()"
      ]
    },
    {
      "cell_type": "markdown",
      "metadata": {
        "id": "yJvwYJaeu7fr"
      },
      "source": [
        "## Importación de librerías"
      ]
    },
    {
      "cell_type": "code",
      "execution_count": 3,
      "metadata": {
        "id": "y8gfq6m1vDM1"
      },
      "outputs": [],
      "source": [
        "# Importamos las librerias necesarias M1\n",
        "import numpy as np\n",
        "import pandas as pd\n",
        "%matplotlib inline\n",
        "import matplotlib.pyplot as plt\n",
        "import datetime\n",
        "import seaborn as sns\n",
        "\n",
        "#Imps M2\n",
        "from sklearn.decomposition import PCA\n",
        "from sklearn.impute import SimpleImputer\n",
        "from sklearn.preprocessing   import StandardScaler\n",
        "\n",
        "#Imps M3\n",
        "from sklearn.dummy           import DummyClassifier\n",
        "from sklearn.linear_model    import LogisticRegression\n",
        "from sklearn.linear_model    import LinearRegression\n",
        "from sklearn.linear_model    import Lasso, Ridge,LassoCV,RidgeCV\n",
        "from sklearn.metrics         import confusion_matrix\n",
        "from sklearn.metrics         import roc_curve\n",
        "from sklearn.metrics         import roc_auc_score\n",
        "from sklearn.model_selection import train_test_split\n",
        "from sklearn.metrics import classification_report, accuracy_score\n",
        "from sklearn.model_selection import train_test_split\n",
        "from sklearn.ensemble import RandomForestClassifier\n",
        "from sklearn.preprocessing import OneHotEncoder\n",
        "from sklearn.metrics import mean_squared_error\n",
        "from sklearn.metrics import confusion_matrix, accuracy_score, precision_score, recall_score, f1_score\n",
        "from sklearn.tree import DecisionTreeClassifier\n",
        "from sklearn import metrics\n",
        "from sklearn.preprocessing import LabelEncoder\n",
        "\n",
        "\n",
        "#Imps M4\n",
        "from sklearn.cluster import KMeans\n",
        "from sklearn.datasets import make_blobs\n",
        "from sklearn.datasets import make_circles\n",
        "from sklearn.cluster import DBSCAN\n",
        "from sklearn.metrics import silhouette_score\n",
        "from sklearn.metrics import calinski_harabasz_score\n",
        "from sklearn.metrics import davies_bouldin_score\n",
        "import plotly.graph_objects as go\n",
        "\n",
        "#Reloads\n",
        "%reload_ext autoreload\n",
        "%autoreload 2\n",
        "\n",
        "#Para evitar mensajes de ciertos warnings\n",
        "import warnings\n",
        "warnings.filterwarnings(\"ignore\")"
      ]
    },
    {
      "cell_type": "code",
      "execution_count": 4,
      "metadata": {},
      "outputs": [
        {
          "name": "stdout",
          "output_type": "stream",
          "text": [
            "Note: you may need to restart the kernel to use updated packages.\n"
          ]
        }
      ],
      "source": [
        "pip install nbformat>=4.2.0"
      ]
    },
    {
      "cell_type": "markdown",
      "metadata": {
        "id": "hCC6Ht_WvGwL"
      },
      "source": [
        "## Importación del dataset"
      ]
    },
    {
      "cell_type": "code",
      "execution_count": null,
      "metadata": {
        "colab": {
          "base_uri": "https://localhost:8080/"
        },
        "id": "KRiePJ4MvI5f",
        "outputId": "493beaf3-9ed2-4195-8b9d-a767cb86be2d"
      },
      "outputs": [],
      "source": [
        "# from google.colab import drive\n",
        "# drive.mount('/content/drive')"
      ]
    },
    {
      "cell_type": "code",
      "execution_count": 5,
      "metadata": {
        "colab": {
          "base_uri": "https://localhost:8080/"
        },
        "id": "XXkW5pklyEUE",
        "outputId": "abf3dbce-5f6d-4266-939e-b500129cf490"
      },
      "outputs": [
        {
          "data": {
            "text/html": [
              "<div>\n",
              "<style scoped>\n",
              "    .dataframe tbody tr th:only-of-type {\n",
              "        vertical-align: middle;\n",
              "    }\n",
              "\n",
              "    .dataframe tbody tr th {\n",
              "        vertical-align: top;\n",
              "    }\n",
              "\n",
              "    .dataframe thead th {\n",
              "        text-align: right;\n",
              "    }\n",
              "</style>\n",
              "<table border=\"1\" class=\"dataframe\">\n",
              "  <thead>\n",
              "    <tr style=\"text-align: right;\">\n",
              "      <th></th>\n",
              "      <th>Your Current Country.</th>\n",
              "      <th>Your Current Zip Code / Pin Code</th>\n",
              "      <th>Your Gender</th>\n",
              "      <th>Which of the below factors influence the most about your career aspirations ?</th>\n",
              "      <th>Would you definitely pursue a Higher Education / Post Graduation outside of India ? If only you have to self sponsor it.</th>\n",
              "      <th>How likely is that you will work for one employer for 3 years or more ?</th>\n",
              "      <th>Would you work for a company whose mission is not clearly defined and publicly posted.</th>\n",
              "      <th>How likely would you work for a company whose mission is misaligned with their public actions or even their product ?</th>\n",
              "      <th>How likely would you work for a company whose mission is not bringing social impact ?</th>\n",
              "      <th>What is the most preferred working environment for you.</th>\n",
              "      <th>Which of the below Employers would you work with.</th>\n",
              "      <th>Which type of learning environment that you are most likely to work in ?</th>\n",
              "      <th>Which of the below careers looks close to your Aspirational job ?</th>\n",
              "      <th>What type of Manager would you work without looking into your watch ?</th>\n",
              "      <th>Which of the following setup you would like to work ?</th>\n",
              "    </tr>\n",
              "  </thead>\n",
              "  <tbody>\n",
              "    <tr>\n",
              "      <th>228</th>\n",
              "      <td>India</td>\n",
              "      <td>442406</td>\n",
              "      <td>Male</td>\n",
              "      <td>My Parents</td>\n",
              "      <td>No, But if someone could bare the cost I will</td>\n",
              "      <td>This will be hard to do, but if it is the righ...</td>\n",
              "      <td>No</td>\n",
              "      <td>Will NOT work for them</td>\n",
              "      <td>7</td>\n",
              "      <td>Fully Remote with No option to visit offices</td>\n",
              "      <td>Employer who pushes your limits by enabling an...</td>\n",
              "      <td>Self Paced Learning Portals, Trial and error b...</td>\n",
              "      <td>Build and develop a Team, Design and Develop a...</td>\n",
              "      <td>Manager who explains what is expected, sets a ...</td>\n",
              "      <td>Work with 5 to 6 people in my team</td>\n",
              "    </tr>\n",
              "    <tr>\n",
              "      <th>229</th>\n",
              "      <td>India</td>\n",
              "      <td>605101</td>\n",
              "      <td>Male</td>\n",
              "      <td>My Parents</td>\n",
              "      <td>Yes, I will earn and do that</td>\n",
              "      <td>This will be hard to do, but if it is the righ...</td>\n",
              "      <td>Yes</td>\n",
              "      <td>Will work for them</td>\n",
              "      <td>10</td>\n",
              "      <td>Fully Remote with Options to travel as and whe...</td>\n",
              "      <td>Employer who appreciates learning and enables ...</td>\n",
              "      <td>Self Paced Learning Portals, Instructor or Exp...</td>\n",
              "      <td>Design and Creative strategy in any company, D...</td>\n",
              "      <td>Manager who sets targets and expects me to ach...</td>\n",
              "      <td>Work with 5 to 6 people in my team</td>\n",
              "    </tr>\n",
              "    <tr>\n",
              "      <th>230</th>\n",
              "      <td>India</td>\n",
              "      <td>605008</td>\n",
              "      <td>Male</td>\n",
              "      <td>People from my circle, but not family members</td>\n",
              "      <td>Yes, I will earn and do that</td>\n",
              "      <td>Will work for 3 years or more</td>\n",
              "      <td>No</td>\n",
              "      <td>Will NOT work for them</td>\n",
              "      <td>7</td>\n",
              "      <td>Fully Remote with Options to travel as and whe...</td>\n",
              "      <td>Employer who pushes your limits by enabling an...</td>\n",
              "      <td>Self Paced Learning Portals, Learning by obser...</td>\n",
              "      <td>Design and Creative strategy in any company, B...</td>\n",
              "      <td>Manager who sets goal and helps me achieve it</td>\n",
              "      <td>Work with more than 10 people in my team</td>\n",
              "    </tr>\n",
              "    <tr>\n",
              "      <th>231</th>\n",
              "      <td>India</td>\n",
              "      <td>722207</td>\n",
              "      <td>Male</td>\n",
              "      <td>People from my circle, but not family members</td>\n",
              "      <td>No I would not be pursuing Higher Education ou...</td>\n",
              "      <td>This will be hard to do, but if it is the righ...</td>\n",
              "      <td>Yes</td>\n",
              "      <td>Will work for them</td>\n",
              "      <td>5</td>\n",
              "      <td>Hybrid Working Environment with less than 3 da...</td>\n",
              "      <td>Employer who rewards learning and enables that...</td>\n",
              "      <td>Learning by observing others, Trial and error ...</td>\n",
              "      <td>Business Operations in any organization, Look ...</td>\n",
              "      <td>Manager who explains what is expected, sets a ...</td>\n",
              "      <td>Work with 2 to 3 people in my team</td>\n",
              "    </tr>\n",
              "    <tr>\n",
              "      <th>232</th>\n",
              "      <td>India</td>\n",
              "      <td>604102</td>\n",
              "      <td>Female</td>\n",
              "      <td>People who have changed the world for better</td>\n",
              "      <td>Yes, I will earn and do that</td>\n",
              "      <td>Will work for 3 years or more</td>\n",
              "      <td>Yes</td>\n",
              "      <td>Will work for them</td>\n",
              "      <td>4</td>\n",
              "      <td>Hybrid Working Environment with less than 10 d...</td>\n",
              "      <td>Employer who appreciates learning and enables ...</td>\n",
              "      <td>Self Paced Learning Portals, Learning by obser...</td>\n",
              "      <td>Design and Creative strategy in any company, B...</td>\n",
              "      <td>Manager who sets goal and helps me achieve it</td>\n",
              "      <td>Work with more than 10 people in my team</td>\n",
              "    </tr>\n",
              "    <tr>\n",
              "      <th>233</th>\n",
              "      <td>India</td>\n",
              "      <td>122002</td>\n",
              "      <td>Male</td>\n",
              "      <td>People who have changed the world for better</td>\n",
              "      <td>Yes, I will earn and do that</td>\n",
              "      <td>No way, 3 years with one employer is crazy</td>\n",
              "      <td>No</td>\n",
              "      <td>Will NOT work for them</td>\n",
              "      <td>7</td>\n",
              "      <td>Hybrid Working Environment with less than 15 d...</td>\n",
              "      <td>Employer who rewards learning and enables that...</td>\n",
              "      <td>Self Paced Learning Portals, Instructor or Exp...</td>\n",
              "      <td>Teaching in any of the institutes/online or Of...</td>\n",
              "      <td>Manager who explains what is expected, sets a ...</td>\n",
              "      <td>Work with 5 to 6 people in my team</td>\n",
              "    </tr>\n",
              "    <tr>\n",
              "      <th>234</th>\n",
              "      <td>India</td>\n",
              "      <td>605102</td>\n",
              "      <td>Female</td>\n",
              "      <td>My Parents</td>\n",
              "      <td>Yes, I will earn and do that</td>\n",
              "      <td>This will be hard to do, but if it is the righ...</td>\n",
              "      <td>Yes</td>\n",
              "      <td>Will work for them</td>\n",
              "      <td>5</td>\n",
              "      <td>Every Day Office Environment</td>\n",
              "      <td>Employer who appreciates learning and enables ...</td>\n",
              "      <td>Self Paced Learning Portals, Instructor or Exp...</td>\n",
              "      <td>Business Operations in any organization, Desig...</td>\n",
              "      <td>Manager who sets targets and expects me to ach...</td>\n",
              "      <td>Work with 7 to 10 or more people in my team</td>\n",
              "    </tr>\n",
              "  </tbody>\n",
              "</table>\n",
              "</div>"
            ],
            "text/plain": [
              "    Your Current Country.  Your Current Zip Code / Pin Code Your Gender  \\\n",
              "228                 India                            442406        Male   \n",
              "229                 India                            605101        Male   \n",
              "230                 India                            605008        Male   \n",
              "231                 India                            722207        Male   \n",
              "232                 India                            604102      Female   \n",
              "233                 India                            122002        Male   \n",
              "234                 India                            605102      Female   \n",
              "\n",
              "    Which of the below factors influence the most about your career aspirations ?  \\\n",
              "228                                         My Parents                              \n",
              "229                                         My Parents                              \n",
              "230      People from my circle, but not family members                              \n",
              "231      People from my circle, but not family members                              \n",
              "232       People who have changed the world for better                              \n",
              "233       People who have changed the world for better                              \n",
              "234                                         My Parents                              \n",
              "\n",
              "    Would you definitely pursue a Higher Education / Post Graduation outside of India ? If only you have to self sponsor it.  \\\n",
              "228      No, But if someone could bare the cost I will                                                                         \n",
              "229                       Yes, I will earn and do that                                                                         \n",
              "230                       Yes, I will earn and do that                                                                         \n",
              "231  No I would not be pursuing Higher Education ou...                                                                         \n",
              "232                       Yes, I will earn and do that                                                                         \n",
              "233                       Yes, I will earn and do that                                                                         \n",
              "234                       Yes, I will earn and do that                                                                         \n",
              "\n",
              "    How likely is that you will work for one employer for 3 years or more ?  \\\n",
              "228  This will be hard to do, but if it is the righ...                        \n",
              "229  This will be hard to do, but if it is the righ...                        \n",
              "230                      Will work for 3 years or more                        \n",
              "231  This will be hard to do, but if it is the righ...                        \n",
              "232                      Will work for 3 years or more                        \n",
              "233         No way, 3 years with one employer is crazy                        \n",
              "234  This will be hard to do, but if it is the righ...                        \n",
              "\n",
              "    Would you work for a company whose mission is not clearly defined and publicly posted.  \\\n",
              "228                                                 No                                       \n",
              "229                                                Yes                                       \n",
              "230                                                 No                                       \n",
              "231                                                Yes                                       \n",
              "232                                                Yes                                       \n",
              "233                                                 No                                       \n",
              "234                                                Yes                                       \n",
              "\n",
              "    How likely would you work for a company whose mission is misaligned with their public actions or even their product ?  \\\n",
              "228                             Will NOT work for them                                                                      \n",
              "229                                 Will work for them                                                                      \n",
              "230                             Will NOT work for them                                                                      \n",
              "231                                 Will work for them                                                                      \n",
              "232                                 Will work for them                                                                      \n",
              "233                             Will NOT work for them                                                                      \n",
              "234                                 Will work for them                                                                      \n",
              "\n",
              "     How likely would you work for a company whose mission is not bringing social impact ?  \\\n",
              "228                                                  7                                       \n",
              "229                                                 10                                       \n",
              "230                                                  7                                       \n",
              "231                                                  5                                       \n",
              "232                                                  4                                       \n",
              "233                                                  7                                       \n",
              "234                                                  5                                       \n",
              "\n",
              "    What is the most preferred working environment for you.  \\\n",
              "228       Fully Remote with No option to visit offices        \n",
              "229  Fully Remote with Options to travel as and whe...        \n",
              "230  Fully Remote with Options to travel as and whe...        \n",
              "231  Hybrid Working Environment with less than 3 da...        \n",
              "232  Hybrid Working Environment with less than 10 d...        \n",
              "233  Hybrid Working Environment with less than 15 d...        \n",
              "234                       Every Day Office Environment        \n",
              "\n",
              "     Which of the below Employers would you work with.  \\\n",
              "228  Employer who pushes your limits by enabling an...   \n",
              "229  Employer who appreciates learning and enables ...   \n",
              "230  Employer who pushes your limits by enabling an...   \n",
              "231  Employer who rewards learning and enables that...   \n",
              "232  Employer who appreciates learning and enables ...   \n",
              "233  Employer who rewards learning and enables that...   \n",
              "234  Employer who appreciates learning and enables ...   \n",
              "\n",
              "    Which type of learning environment that you are most likely to work in ?  \\\n",
              "228  Self Paced Learning Portals, Trial and error b...                         \n",
              "229  Self Paced Learning Portals, Instructor or Exp...                         \n",
              "230  Self Paced Learning Portals, Learning by obser...                         \n",
              "231  Learning by observing others, Trial and error ...                         \n",
              "232  Self Paced Learning Portals, Learning by obser...                         \n",
              "233  Self Paced Learning Portals, Instructor or Exp...                         \n",
              "234  Self Paced Learning Portals, Instructor or Exp...                         \n",
              "\n",
              "    Which of the below careers looks close to your Aspirational job ?  \\\n",
              "228  Build and develop a Team, Design and Develop a...                  \n",
              "229  Design and Creative strategy in any company, D...                  \n",
              "230  Design and Creative strategy in any company, B...                  \n",
              "231  Business Operations in any organization, Look ...                  \n",
              "232  Design and Creative strategy in any company, B...                  \n",
              "233  Teaching in any of the institutes/online or Of...                  \n",
              "234  Business Operations in any organization, Desig...                  \n",
              "\n",
              "    What type of Manager would you work without looking into your watch ?  \\\n",
              "228  Manager who explains what is expected, sets a ...                      \n",
              "229  Manager who sets targets and expects me to ach...                      \n",
              "230      Manager who sets goal and helps me achieve it                      \n",
              "231  Manager who explains what is expected, sets a ...                      \n",
              "232      Manager who sets goal and helps me achieve it                      \n",
              "233  Manager who explains what is expected, sets a ...                      \n",
              "234  Manager who sets targets and expects me to ach...                      \n",
              "\n",
              "    Which of the following setup you would like to work ?  \n",
              "228                 Work with 5 to 6 people in my team     \n",
              "229                 Work with 5 to 6 people in my team     \n",
              "230           Work with more than 10 people in my team     \n",
              "231                 Work with 2 to 3 people in my team     \n",
              "232           Work with more than 10 people in my team     \n",
              "233                 Work with 5 to 6 people in my team     \n",
              "234        Work with 7 to 10 or more people in my team     "
            ]
          },
          "execution_count": 5,
          "metadata": {},
          "output_type": "execute_result"
        }
      ],
      "source": [
        "#Descargar el archivo, guardarlo en drive y finalmente leerlo con pd.read_csv.\n",
        "df1 = pd.read_csv(\n",
        "    r'C:\\Users\\Equipo 1\\Downloads\\M7-proyecto-ML-GenZ-dataset\\Your Career Aspirations of GenZ.csv')\n",
        "df1.tail(7)"
      ]
    },
    {
      "cell_type": "markdown",
      "metadata": {
        "id": "xscjIzMHvM-J"
      },
      "source": [
        "## Limpieza de datos"
      ]
    },
    {
      "cell_type": "markdown",
      "metadata": {
        "id": "e-uqLw__mwI4"
      },
      "source": [
        "Verificamos que los datos están completos en todas sus columnas:"
      ]
    },
    {
      "cell_type": "code",
      "execution_count": 6,
      "metadata": {
        "colab": {
          "base_uri": "https://localhost:8080/"
        },
        "id": "3VRQ25-9vPLz",
        "outputId": "cfc02ae9-d85b-4d66-ff2a-8f7ac74a0afd"
      },
      "outputs": [
        {
          "name": "stdout",
          "output_type": "stream",
          "text": [
            "<class 'pandas.core.frame.DataFrame'>\n",
            "RangeIndex: 235 entries, 0 to 234\n",
            "Data columns (total 15 columns):\n",
            " #   Column                                                                                                                    Non-Null Count  Dtype \n",
            "---  ------                                                                                                                    --------------  ----- \n",
            " 0   Your Current Country.                                                                                                     235 non-null    object\n",
            " 1   Your Current Zip Code / Pin Code                                                                                          235 non-null    int64 \n",
            " 2   Your Gender                                                                                                               235 non-null    object\n",
            " 3   Which of the below factors influence the most about your career aspirations ?                                             235 non-null    object\n",
            " 4   Would you definitely pursue a Higher Education / Post Graduation outside of India ? If only you have to self sponsor it.  235 non-null    object\n",
            " 5   How likely is that you will work for one employer for 3 years or more ?                                                   235 non-null    object\n",
            " 6   Would you work for a company whose mission is not clearly defined and publicly posted.                                    235 non-null    object\n",
            " 7   How likely would you work for a company whose mission is misaligned with their public actions or even their product ?     235 non-null    object\n",
            " 8   How likely would you work for a company whose mission is not bringing social impact ?                                     235 non-null    int64 \n",
            " 9   What is the most preferred working environment for you.                                                                   235 non-null    object\n",
            " 10  Which of the below Employers would you work with.                                                                         235 non-null    object\n",
            " 11  Which type of learning environment that you are most likely to work in ?                                                  235 non-null    object\n",
            " 12  Which of the below careers looks close to your Aspirational job ?                                                         235 non-null    object\n",
            " 13  What type of Manager would you work without looking into your watch ?                                                     235 non-null    object\n",
            " 14  Which of the following setup you would like to work ?                                                                     235 non-null    object\n",
            "dtypes: int64(2), object(13)\n",
            "memory usage: 27.7+ KB\n"
          ]
        }
      ],
      "source": [
        "df1.info()"
      ]
    },
    {
      "cell_type": "markdown",
      "metadata": {
        "id": "8q1yeWDlnEjZ"
      },
      "source": [
        "Voy a reenombrar los títulos de las tablas porque están demasiado largos:"
      ]
    },
    {
      "cell_type": "code",
      "execution_count": 7,
      "metadata": {
        "colab": {
          "base_uri": "https://localhost:8080/",
          "height": 550
        },
        "id": "4BqLjLiCnJGN",
        "outputId": "be423712-1871-4f71-b996-d14ca13b46b1"
      },
      "outputs": [
        {
          "data": {
            "text/html": [
              "<div>\n",
              "<style scoped>\n",
              "    .dataframe tbody tr th:only-of-type {\n",
              "        vertical-align: middle;\n",
              "    }\n",
              "\n",
              "    .dataframe tbody tr th {\n",
              "        vertical-align: top;\n",
              "    }\n",
              "\n",
              "    .dataframe thead th {\n",
              "        text-align: right;\n",
              "    }\n",
              "</style>\n",
              "<table border=\"1\" class=\"dataframe\">\n",
              "  <thead>\n",
              "    <tr style=\"text-align: right;\">\n",
              "      <th></th>\n",
              "      <th>country</th>\n",
              "      <th>zip_code</th>\n",
              "      <th>gender</th>\n",
              "      <th>influence_to_study</th>\n",
              "      <th>posgraduate</th>\n",
              "      <th>work_3_years</th>\n",
              "      <th>company_mission</th>\n",
              "      <th>company_values</th>\n",
              "      <th>social_impact</th>\n",
              "      <th>working_environment</th>\n",
              "      <th>type_employers</th>\n",
              "      <th>type_learning</th>\n",
              "      <th>type_aspirations</th>\n",
              "      <th>type_manager</th>\n",
              "      <th>type_team</th>\n",
              "    </tr>\n",
              "  </thead>\n",
              "  <tbody>\n",
              "    <tr>\n",
              "      <th>0</th>\n",
              "      <td>India</td>\n",
              "      <td>273005</td>\n",
              "      <td>Male</td>\n",
              "      <td>People who have changed the world for better</td>\n",
              "      <td>Yes, I will earn and do that</td>\n",
              "      <td>This will be hard to do, but if it is the righ...</td>\n",
              "      <td>No</td>\n",
              "      <td>Will NOT work for them</td>\n",
              "      <td>4</td>\n",
              "      <td>Fully Remote with No option to visit offices</td>\n",
              "      <td>Employer who rewards learning and enables that...</td>\n",
              "      <td>Instructor or Expert Learning Programs, Trial ...</td>\n",
              "      <td>Business Operations in any organization, Build...</td>\n",
              "      <td>Manager who explains what is expected, sets a ...</td>\n",
              "      <td>Work alone, Work with 2 to 3 people in my team...</td>\n",
              "    </tr>\n",
              "    <tr>\n",
              "      <th>1</th>\n",
              "      <td>India</td>\n",
              "      <td>851129</td>\n",
              "      <td>Male</td>\n",
              "      <td>People who have changed the world for better</td>\n",
              "      <td>No, But if someone could bare the cost I will</td>\n",
              "      <td>This will be hard to do, but if it is the righ...</td>\n",
              "      <td>No</td>\n",
              "      <td>Will NOT work for them</td>\n",
              "      <td>1</td>\n",
              "      <td>Fully Remote with Options to travel as and whe...</td>\n",
              "      <td>Employer who pushes your limits by enabling an...</td>\n",
              "      <td>Self Paced Learning Portals, Instructor or Exp...</td>\n",
              "      <td>Business Operations in any organization, Build...</td>\n",
              "      <td>Manager who explains what is expected, sets a ...</td>\n",
              "      <td>Work with 5 to 6 people in my team</td>\n",
              "    </tr>\n",
              "    <tr>\n",
              "      <th>2</th>\n",
              "      <td>India</td>\n",
              "      <td>123106</td>\n",
              "      <td>Female</td>\n",
              "      <td>Social Media like LinkedIn</td>\n",
              "      <td>Yes, I will earn and do that</td>\n",
              "      <td>Will work for 3 years or more</td>\n",
              "      <td>Yes</td>\n",
              "      <td>Will work for them</td>\n",
              "      <td>7</td>\n",
              "      <td>Hybrid Working Environment with less than 15 d...</td>\n",
              "      <td>Employer who pushes your limits by enabling an...</td>\n",
              "      <td>Self Paced Learning Portals, Trial and error b...</td>\n",
              "      <td>Manage and drive End-to-End Projects or Produc...</td>\n",
              "      <td>Manager who explains what is expected, sets a ...</td>\n",
              "      <td>Work with 2 to 3 people in my team, Work with ...</td>\n",
              "    </tr>\n",
              "    <tr>\n",
              "      <th>3</th>\n",
              "      <td>India</td>\n",
              "      <td>834003</td>\n",
              "      <td>Male</td>\n",
              "      <td>People from my circle, but not family members</td>\n",
              "      <td>No, But if someone could bare the cost I will</td>\n",
              "      <td>This will be hard to do, but if it is the righ...</td>\n",
              "      <td>No</td>\n",
              "      <td>Will NOT work for them</td>\n",
              "      <td>6</td>\n",
              "      <td>Hybrid Working Environment with less than 15 d...</td>\n",
              "      <td>Employer who pushes your limits by enabling an...</td>\n",
              "      <td>Instructor or Expert Learning Programs, Trial ...</td>\n",
              "      <td>Business Operations in any organization, Manag...</td>\n",
              "      <td>Manager who explains what is expected, sets a ...</td>\n",
              "      <td>Work with 2 to 3 people in my team</td>\n",
              "    </tr>\n",
              "    <tr>\n",
              "      <th>4</th>\n",
              "      <td>India</td>\n",
              "      <td>301019</td>\n",
              "      <td>Female</td>\n",
              "      <td>Influencers who had successful careers</td>\n",
              "      <td>No, But if someone could bare the cost I will</td>\n",
              "      <td>Will work for 3 years or more</td>\n",
              "      <td>No</td>\n",
              "      <td>Will NOT work for them</td>\n",
              "      <td>5</td>\n",
              "      <td>Fully Remote with Options to travel as and whe...</td>\n",
              "      <td>Employer who appreciates learning and enables ...</td>\n",
              "      <td>Self Paced Learning Portals, Learning by obser...</td>\n",
              "      <td>Teaching in any of the institutes/online or Of...</td>\n",
              "      <td>Manager who explains what is expected, sets a ...</td>\n",
              "      <td>Work with 2 to 3 people in my team, Work with ...</td>\n",
              "    </tr>\n",
              "    <tr>\n",
              "      <th>5</th>\n",
              "      <td>India</td>\n",
              "      <td>768028</td>\n",
              "      <td>Female</td>\n",
              "      <td>My Parents</td>\n",
              "      <td>Yes, I will earn and do that</td>\n",
              "      <td>This will be hard to do, but if it is the righ...</td>\n",
              "      <td>No</td>\n",
              "      <td>Will NOT work for them</td>\n",
              "      <td>6</td>\n",
              "      <td>Fully Remote with Options to travel as and whe...</td>\n",
              "      <td>Employer who appreciates learning and enables ...</td>\n",
              "      <td>Instructor or Expert Learning Programs, Learni...</td>\n",
              "      <td>Business Operations in any organization, Manag...</td>\n",
              "      <td>Manager who explains what is expected, sets a ...</td>\n",
              "      <td>Work with 2 to 3 people in my team</td>\n",
              "    </tr>\n",
              "  </tbody>\n",
              "</table>\n",
              "</div>"
            ],
            "text/plain": [
              "  country  zip_code  gender                             influence_to_study  \\\n",
              "0   India    273005    Male   People who have changed the world for better   \n",
              "1   India    851129    Male   People who have changed the world for better   \n",
              "2   India    123106  Female                     Social Media like LinkedIn   \n",
              "3   India    834003    Male  People from my circle, but not family members   \n",
              "4   India    301019  Female         Influencers who had successful careers   \n",
              "5   India    768028  Female                                     My Parents   \n",
              "\n",
              "                                     posgraduate  \\\n",
              "0                   Yes, I will earn and do that   \n",
              "1  No, But if someone could bare the cost I will   \n",
              "2                   Yes, I will earn and do that   \n",
              "3  No, But if someone could bare the cost I will   \n",
              "4  No, But if someone could bare the cost I will   \n",
              "5                   Yes, I will earn and do that   \n",
              "\n",
              "                                        work_3_years company_mission  \\\n",
              "0  This will be hard to do, but if it is the righ...              No   \n",
              "1  This will be hard to do, but if it is the righ...              No   \n",
              "2                      Will work for 3 years or more             Yes   \n",
              "3  This will be hard to do, but if it is the righ...              No   \n",
              "4                      Will work for 3 years or more              No   \n",
              "5  This will be hard to do, but if it is the righ...              No   \n",
              "\n",
              "           company_values  social_impact  \\\n",
              "0  Will NOT work for them              4   \n",
              "1  Will NOT work for them              1   \n",
              "2      Will work for them              7   \n",
              "3  Will NOT work for them              6   \n",
              "4  Will NOT work for them              5   \n",
              "5  Will NOT work for them              6   \n",
              "\n",
              "                                 working_environment  \\\n",
              "0       Fully Remote with No option to visit offices   \n",
              "1  Fully Remote with Options to travel as and whe...   \n",
              "2  Hybrid Working Environment with less than 15 d...   \n",
              "3  Hybrid Working Environment with less than 15 d...   \n",
              "4  Fully Remote with Options to travel as and whe...   \n",
              "5  Fully Remote with Options to travel as and whe...   \n",
              "\n",
              "                                      type_employers  \\\n",
              "0  Employer who rewards learning and enables that...   \n",
              "1  Employer who pushes your limits by enabling an...   \n",
              "2  Employer who pushes your limits by enabling an...   \n",
              "3  Employer who pushes your limits by enabling an...   \n",
              "4  Employer who appreciates learning and enables ...   \n",
              "5  Employer who appreciates learning and enables ...   \n",
              "\n",
              "                                       type_learning  \\\n",
              "0  Instructor or Expert Learning Programs, Trial ...   \n",
              "1  Self Paced Learning Portals, Instructor or Exp...   \n",
              "2  Self Paced Learning Portals, Trial and error b...   \n",
              "3  Instructor or Expert Learning Programs, Trial ...   \n",
              "4  Self Paced Learning Portals, Learning by obser...   \n",
              "5  Instructor or Expert Learning Programs, Learni...   \n",
              "\n",
              "                                    type_aspirations  \\\n",
              "0  Business Operations in any organization, Build...   \n",
              "1  Business Operations in any organization, Build...   \n",
              "2  Manage and drive End-to-End Projects or Produc...   \n",
              "3  Business Operations in any organization, Manag...   \n",
              "4  Teaching in any of the institutes/online or Of...   \n",
              "5  Business Operations in any organization, Manag...   \n",
              "\n",
              "                                        type_manager  \\\n",
              "0  Manager who explains what is expected, sets a ...   \n",
              "1  Manager who explains what is expected, sets a ...   \n",
              "2  Manager who explains what is expected, sets a ...   \n",
              "3  Manager who explains what is expected, sets a ...   \n",
              "4  Manager who explains what is expected, sets a ...   \n",
              "5  Manager who explains what is expected, sets a ...   \n",
              "\n",
              "                                           type_team  \n",
              "0  Work alone, Work with 2 to 3 people in my team...  \n",
              "1                 Work with 5 to 6 people in my team  \n",
              "2  Work with 2 to 3 people in my team, Work with ...  \n",
              "3                 Work with 2 to 3 people in my team  \n",
              "4  Work with 2 to 3 people in my team, Work with ...  \n",
              "5                 Work with 2 to 3 people in my team  "
            ]
          },
          "execution_count": 7,
          "metadata": {},
          "output_type": "execute_result"
        }
      ],
      "source": [
        "new_col_names = {\"Your Current Country.\":\"country\", #columna 0\n",
        "                 \"Your Current Zip Code / Pin Code\":\"zip_code\", #columna 1\n",
        "                 \"Your Gender\":\"gender\", #columna 2\n",
        "                 \"Which of the below factors influence the most about your career aspirations ?\":\"influence_to_study\", #columna 3\n",
        "                 \"Would you definitely pursue a Higher Education / Post Graduation outside of India ? If only you have to self sponsor it.\":\"posgraduate\", #columna 4\n",
        "                 \"How likely is that you will work for one employer for 3 years or more ?\":\"work_3_years\", #columna 5\n",
        "                 \"Would you work for a company whose mission is not clearly defined and publicly posted.\":\"company_mission\", #columna 6\n",
        "                 \"How likely would you work for a company whose mission is misaligned with their public actions or even their product ?\":\"company_values\", #columna 7\n",
        "                 \"How likely would you work for a company whose mission is not bringing social impact ?\":\"social_impact\", #columna 8\n",
        "                 \"What is the most preferred working environment for you.\":\"working_environment\", #columna 9\n",
        "                 \"Which of the below Employers would you work with.\":\"type_employers\", #columna 10\n",
        "                 \"Which type of learning environment that you are most likely to work in ?\":\"type_learning\", #columna 11\n",
        "                 \"Which of the below careers looks close to your Aspirational job ?\":\"type_aspirations\", #columna 12\n",
        "                 \"What type of Manager would you work without looking into your watch ?\":\"type_manager\", #columna 13\n",
        "                 \"Which of the following setup you would like to work ?\":\"type_team\", #columna 14\n",
        "                 }\n",
        "\n",
        "# Rename all columns except the one with the longest name\n",
        "df1.rename(columns=new_col_names, inplace=True)\n",
        "\n",
        "df1.head(6)"
      ]
    },
    {
      "cell_type": "code",
      "execution_count": 8,
      "metadata": {
        "colab": {
          "base_uri": "https://localhost:8080/"
        },
        "id": "T2E1AW61bMTV",
        "outputId": "9fe6c68e-8dd8-4702-e4d4-610b9f3f33ba"
      },
      "outputs": [
        {
          "name": "stdout",
          "output_type": "stream",
          "text": [
            "<class 'pandas.core.frame.DataFrame'>\n",
            "RangeIndex: 235 entries, 0 to 234\n",
            "Data columns (total 15 columns):\n",
            " #   Column               Non-Null Count  Dtype \n",
            "---  ------               --------------  ----- \n",
            " 0   country              235 non-null    object\n",
            " 1   zip_code             235 non-null    int64 \n",
            " 2   gender               235 non-null    object\n",
            " 3   influence_to_study   235 non-null    object\n",
            " 4   posgraduate          235 non-null    object\n",
            " 5   work_3_years         235 non-null    object\n",
            " 6   company_mission      235 non-null    object\n",
            " 7   company_values       235 non-null    object\n",
            " 8   social_impact        235 non-null    int64 \n",
            " 9   working_environment  235 non-null    object\n",
            " 10  type_employers       235 non-null    object\n",
            " 11  type_learning        235 non-null    object\n",
            " 12  type_aspirations     235 non-null    object\n",
            " 13  type_manager         235 non-null    object\n",
            " 14  type_team            235 non-null    object\n",
            "dtypes: int64(2), object(13)\n",
            "memory usage: 27.7+ KB\n"
          ]
        }
      ],
      "source": [
        "df1.info()"
      ]
    },
    {
      "cell_type": "code",
      "execution_count": 9,
      "metadata": {
        "colab": {
          "base_uri": "https://localhost:8080/"
        },
        "id": "qaasxQeZbPQo",
        "outputId": "54da72fb-2c42-4d57-8425-64de556b15f9"
      },
      "outputs": [
        {
          "name": "stdout",
          "output_type": "stream",
          "text": [
            "0\n"
          ]
        }
      ],
      "source": [
        "print(df1.duplicated().sum()) #Aquí verifico que no existan datos duplicados"
      ]
    },
    {
      "cell_type": "markdown",
      "metadata": {
        "id": "XjfNGvam1HfB"
      },
      "source": [
        "## Análisis Exploratorio de los Datos"
      ]
    },
    {
      "cell_type": "markdown",
      "metadata": {
        "id": "VrnqRPnxGYce"
      },
      "source": [
        "La completitud aquí se muestra de 100% para todas las variables del dataframe como también vimos en el apartado 3.0 con df1.info()"
      ]
    },
    {
      "cell_type": "code",
      "execution_count": 11,
      "metadata": {
        "colab": {
          "base_uri": "https://localhost:8080/",
          "height": 520
        },
        "id": "bpx9WCPLGaXK",
        "outputId": "8c66b927-499f-48f1-b579-de602162f40e"
      },
      "outputs": [
        {
          "data": {
            "text/html": [
              "<div>\n",
              "<style scoped>\n",
              "    .dataframe tbody tr th:only-of-type {\n",
              "        vertical-align: middle;\n",
              "    }\n",
              "\n",
              "    .dataframe tbody tr th {\n",
              "        vertical-align: top;\n",
              "    }\n",
              "\n",
              "    .dataframe thead th {\n",
              "        text-align: right;\n",
              "    }\n",
              "</style>\n",
              "<table border=\"1\" class=\"dataframe\">\n",
              "  <thead>\n",
              "    <tr style=\"text-align: right;\">\n",
              "      <th></th>\n",
              "      <th>columna</th>\n",
              "      <th>total</th>\n",
              "      <th>completitud</th>\n",
              "    </tr>\n",
              "  </thead>\n",
              "  <tbody>\n",
              "    <tr>\n",
              "      <th>0</th>\n",
              "      <td>country</td>\n",
              "      <td>0</td>\n",
              "      <td>100.0</td>\n",
              "    </tr>\n",
              "    <tr>\n",
              "      <th>1</th>\n",
              "      <td>zip_code</td>\n",
              "      <td>0</td>\n",
              "      <td>100.0</td>\n",
              "    </tr>\n",
              "    <tr>\n",
              "      <th>2</th>\n",
              "      <td>gender</td>\n",
              "      <td>0</td>\n",
              "      <td>100.0</td>\n",
              "    </tr>\n",
              "    <tr>\n",
              "      <th>3</th>\n",
              "      <td>influence_to_study</td>\n",
              "      <td>0</td>\n",
              "      <td>100.0</td>\n",
              "    </tr>\n",
              "    <tr>\n",
              "      <th>4</th>\n",
              "      <td>posgraduate</td>\n",
              "      <td>0</td>\n",
              "      <td>100.0</td>\n",
              "    </tr>\n",
              "    <tr>\n",
              "      <th>5</th>\n",
              "      <td>work_3_years</td>\n",
              "      <td>0</td>\n",
              "      <td>100.0</td>\n",
              "    </tr>\n",
              "    <tr>\n",
              "      <th>6</th>\n",
              "      <td>company_mission</td>\n",
              "      <td>0</td>\n",
              "      <td>100.0</td>\n",
              "    </tr>\n",
              "    <tr>\n",
              "      <th>7</th>\n",
              "      <td>company_values</td>\n",
              "      <td>0</td>\n",
              "      <td>100.0</td>\n",
              "    </tr>\n",
              "    <tr>\n",
              "      <th>8</th>\n",
              "      <td>social_impact</td>\n",
              "      <td>0</td>\n",
              "      <td>100.0</td>\n",
              "    </tr>\n",
              "    <tr>\n",
              "      <th>9</th>\n",
              "      <td>working_environment</td>\n",
              "      <td>0</td>\n",
              "      <td>100.0</td>\n",
              "    </tr>\n",
              "    <tr>\n",
              "      <th>10</th>\n",
              "      <td>type_employers</td>\n",
              "      <td>0</td>\n",
              "      <td>100.0</td>\n",
              "    </tr>\n",
              "    <tr>\n",
              "      <th>11</th>\n",
              "      <td>type_learning</td>\n",
              "      <td>0</td>\n",
              "      <td>100.0</td>\n",
              "    </tr>\n",
              "    <tr>\n",
              "      <th>12</th>\n",
              "      <td>type_aspirations</td>\n",
              "      <td>0</td>\n",
              "      <td>100.0</td>\n",
              "    </tr>\n",
              "    <tr>\n",
              "      <th>13</th>\n",
              "      <td>type_manager</td>\n",
              "      <td>0</td>\n",
              "      <td>100.0</td>\n",
              "    </tr>\n",
              "    <tr>\n",
              "      <th>14</th>\n",
              "      <td>type_team</td>\n",
              "      <td>0</td>\n",
              "      <td>100.0</td>\n",
              "    </tr>\n",
              "  </tbody>\n",
              "</table>\n",
              "</div>"
            ],
            "text/plain": [
              "                columna  total  completitud\n",
              "0               country      0        100.0\n",
              "1              zip_code      0        100.0\n",
              "2                gender      0        100.0\n",
              "3    influence_to_study      0        100.0\n",
              "4           posgraduate      0        100.0\n",
              "5          work_3_years      0        100.0\n",
              "6       company_mission      0        100.0\n",
              "7        company_values      0        100.0\n",
              "8         social_impact      0        100.0\n",
              "9   working_environment      0        100.0\n",
              "10       type_employers      0        100.0\n",
              "11        type_learning      0        100.0\n",
              "12     type_aspirations      0        100.0\n",
              "13         type_manager      0        100.0\n",
              "14            type_team      0        100.0"
            ]
          },
          "execution_count": 11,
          "metadata": {},
          "output_type": "execute_result"
        }
      ],
      "source": [
        "#Aseguramos que no tenemos variables con >80% de completitud\n",
        "#1. Llamamos a los datos nulos\n",
        "completitud_verified = pd.DataFrame(df1.isnull().sum())\n",
        "#2. Reseteamos índices de las columnas\n",
        "completitud_verified.reset_index(inplace = True)\n",
        "#3. Renombramos columnas\n",
        "completitud_verified= completitud_verified.rename(columns = {\"index\":\"columna\",0:\"total\"})\n",
        "#4. Aplicamos la fórmula de la completitud para crear una nueva columna en % porcentaje\n",
        "completitud_verified[\"completitud\"] = ((1 - completitud_verified[\"total\"] / df1.shape[0]) * 100) #.round(2) esto quitó los porcentajes\n",
        "#5. Ordenamos los resultados por valores ascendentes\n",
        "completitud_verified = completitud_verified.sort_values(by = \"completitud\", ascending = True)\n",
        "#6. Reseteamos indices de las filas para mostrar\n",
        "completitud_verified.reset_index(drop = True, inplace = True)\n",
        "completitud_verified\n",
        "\n",
        "#Con el código anterior verificamos que para cada columna no tenemos datos faltantes. Están todos completos"
      ]
    },
    {
      "cell_type": "markdown",
      "metadata": {
        "id": "jq4NOHnCxrbx"
      },
      "source": [
        "Aquí estoy haciendo una gráfica para ver cómo está la distribución de género entre el total de las personas que llenaron la encuesta."
      ]
    },
    {
      "cell_type": "code",
      "execution_count": null,
      "metadata": {
        "id": "a9zzuGxheZ4g"
      },
      "outputs": [],
      "source": [
        "# plt.figure(figsize=(15, 4))  # Cambia el tamaño según lo necesites\n",
        "# # Crear la gráfica de bigotes con Seaborn\n",
        "# sns.boxplot(x=df1['country'].value_counts(), whis=2.9, width=0.5)\n",
        "\n",
        "# # Personalizar la apariencia\n",
        "# plt.title('Gráfico de Bigotes para la variable \"country\"')\n",
        "# plt.xlabel('Categorías de País')\n",
        "# plt.ylabel('Frecuencia')\n",
        "\n",
        "# # Mostrar la gráfica\n",
        "# plt.show()"
      ]
    },
    {
      "cell_type": "code",
      "execution_count": 12,
      "metadata": {
        "colab": {
          "base_uri": "https://localhost:8080/",
          "height": 521
        },
        "id": "HRkHqLGQyW7c",
        "outputId": "1ee6cc27-9948-4157-dcef-32b42d6e7646"
      },
      "outputs": [
        {
          "data": {
            "image/png": "[encoded data removed]",
            "text/plain": [
              "<Figure size 1000x600 with 1 Axes>"
            ]
          },
          "metadata": {},
          "output_type": "display_data"
        }
      ],
      "source": [
        "# Contar los valores únicos en la columna 'gender'\n",
        "gender_counts = df1['gender'].value_counts()\n",
        "\n",
        "# Crear la gráfica de pastel con Seaborn y Matplotlib\n",
        "plt.figure(figsize=(10, 6))\n",
        "sns.set_palette(\"Set2\")  # Seleccionar paleta de colores\n",
        "plt.pie(gender_counts, labels=gender_counts.index, autopct='%1.1f%%', startangle=90)\n",
        "plt.title('Gender distribution')\n",
        "plt.legend()\n",
        "plt.axis('equal')  # Hacer que el gráfico sea un círculo en lugar de elipse\n",
        "plt.show()"
      ]
    },
    {
      "cell_type": "code",
      "execution_count": 13,
      "metadata": {
        "colab": {
          "base_uri": "https://localhost:8080/",
          "height": 696
        },
        "id": "Vkd11vFHyR_h",
        "outputId": "d64ea8bd-7cc3-428a-ef2f-8a0e4a49f108"
      },
      "outputs": [
        {
          "data": {
            "image/png": "[encoded data removed]",
            "text/plain": [
              "<Figure size 2000x900 with 3 Axes>"
            ]
          },
          "metadata": {},
          "output_type": "display_data"
        }
      ],
      "source": [
        "# Select the columns\n",
        "country = df1[\"country\"]\n",
        "posgraduate = df1[\"posgraduate\"]\n",
        "work_3_years = df1[\"work_3_years\"]\n",
        "\n",
        "# Create a dictionary for mapping categories (optional, but keeps code cleaner)\n",
        "category_map = {\n",
        "    \"country\": country.unique(),\n",
        "    \"posgraduate\": posgraduate.unique(),\n",
        "    \"work_3_years\": work_3_years.unique(),\n",
        "}\n",
        "\n",
        "# Configure the figure size\n",
        "fig, axes = plt.subplots(nrows=3, ncols=1, figsize=(20, 9))  # Change to nrows=3, ncols=1\n",
        "\n",
        "# Create the subplot for each column\n",
        "for i, column in enumerate([\"country\", \"posgraduate\", \"work_3_years\"]):\n",
        "    categories = category_map.get(column, df1[column].unique())  # Handle potential missing key\n",
        "    counts = df1[column].value_counts()\n",
        "\n",
        "    # Swap X and Y for bar chart\n",
        "    axes[i].barh(categories, counts)  # Use barh for horizontal bars\n",
        "    axes[i].set_xlabel(\"Cantidad\")\n",
        "    axes[i].set_ylabel(column)\n",
        "\n",
        "    # Optional: Rotate x-axis labels for better readability\n",
        "    plt.xticks(rotation=45)  # Rotate x-axis labels by 45 degrees\n",
        "\n",
        "# Adjust space between subplots (optional)\n",
        "plt.subplots_adjust(hspace=0.3)  # Adjust vertical space\n",
        "\n",
        "# Show the figure\n",
        "plt.show()"
      ]
    },
    {
      "cell_type": "markdown",
      "metadata": {
        "id": "Zdpl2b3dWui9"
      },
      "source": [
        "## Dummies"
      ]
    },
    {
      "cell_type": "markdown",
      "metadata": {
        "id": "ydBSjg_utLTM"
      },
      "source": [
        "Para poder pasar a procesar los datos, necesitamos convertirlos a número. Aquí estoy creando un dataframe con las variables que más me interesan:"
      ]
    },
    {
      "cell_type": "code",
      "execution_count": 14,
      "metadata": {
        "colab": {
          "base_uri": "https://localhost:8080/"
        },
        "id": "728CKPDjaLOs",
        "outputId": "cda6f30c-02b0-4f3c-8097-7712c85fe6c5"
      },
      "outputs": [
        {
          "data": {
            "text/html": [
              "<div>\n",
              "<style scoped>\n",
              "    .dataframe tbody tr th:only-of-type {\n",
              "        vertical-align: middle;\n",
              "    }\n",
              "\n",
              "    .dataframe tbody tr th {\n",
              "        vertical-align: top;\n",
              "    }\n",
              "\n",
              "    .dataframe thead th {\n",
              "        text-align: right;\n",
              "    }\n",
              "</style>\n",
              "<table border=\"1\" class=\"dataframe\">\n",
              "  <thead>\n",
              "    <tr style=\"text-align: right;\">\n",
              "      <th></th>\n",
              "      <th>country</th>\n",
              "      <th>posgraduate</th>\n",
              "      <th>work_3_years</th>\n",
              "      <th>working_environment</th>\n",
              "      <th>type_employers</th>\n",
              "      <th>type_learning</th>\n",
              "      <th>type_manager</th>\n",
              "    </tr>\n",
              "  </thead>\n",
              "  <tbody>\n",
              "    <tr>\n",
              "      <th>232</th>\n",
              "      <td>India</td>\n",
              "      <td>Yes, I will earn and do that</td>\n",
              "      <td>Will work for 3 years or more</td>\n",
              "      <td>Hybrid Working Environment with less than 10 d...</td>\n",
              "      <td>Employer who appreciates learning and enables ...</td>\n",
              "      <td>Self Paced Learning Portals, Learning by obser...</td>\n",
              "      <td>Manager who sets goal and helps me achieve it</td>\n",
              "    </tr>\n",
              "    <tr>\n",
              "      <th>233</th>\n",
              "      <td>India</td>\n",
              "      <td>Yes, I will earn and do that</td>\n",
              "      <td>No way, 3 years with one employer is crazy</td>\n",
              "      <td>Hybrid Working Environment with less than 15 d...</td>\n",
              "      <td>Employer who rewards learning and enables that...</td>\n",
              "      <td>Self Paced Learning Portals, Instructor or Exp...</td>\n",
              "      <td>Manager who explains what is expected, sets a ...</td>\n",
              "    </tr>\n",
              "    <tr>\n",
              "      <th>234</th>\n",
              "      <td>India</td>\n",
              "      <td>Yes, I will earn and do that</td>\n",
              "      <td>This will be hard to do, but if it is the righ...</td>\n",
              "      <td>Every Day Office Environment</td>\n",
              "      <td>Employer who appreciates learning and enables ...</td>\n",
              "      <td>Self Paced Learning Portals, Instructor or Exp...</td>\n",
              "      <td>Manager who sets targets and expects me to ach...</td>\n",
              "    </tr>\n",
              "  </tbody>\n",
              "</table>\n",
              "</div>"
            ],
            "text/plain": [
              "    country                   posgraduate  \\\n",
              "232   India  Yes, I will earn and do that   \n",
              "233   India  Yes, I will earn and do that   \n",
              "234   India  Yes, I will earn and do that   \n",
              "\n",
              "                                          work_3_years  \\\n",
              "232                      Will work for 3 years or more   \n",
              "233         No way, 3 years with one employer is crazy   \n",
              "234  This will be hard to do, but if it is the righ...   \n",
              "\n",
              "                                   working_environment  \\\n",
              "232  Hybrid Working Environment with less than 10 d...   \n",
              "233  Hybrid Working Environment with less than 15 d...   \n",
              "234                       Every Day Office Environment   \n",
              "\n",
              "                                        type_employers  \\\n",
              "232  Employer who appreciates learning and enables ...   \n",
              "233  Employer who rewards learning and enables that...   \n",
              "234  Employer who appreciates learning and enables ...   \n",
              "\n",
              "                                         type_learning  \\\n",
              "232  Self Paced Learning Portals, Learning by obser...   \n",
              "233  Self Paced Learning Portals, Instructor or Exp...   \n",
              "234  Self Paced Learning Portals, Instructor or Exp...   \n",
              "\n",
              "                                          type_manager  \n",
              "232      Manager who sets goal and helps me achieve it  \n",
              "233  Manager who explains what is expected, sets a ...  \n",
              "234  Manager who sets targets and expects me to ach...  "
            ]
          },
          "execution_count": 14,
          "metadata": {},
          "output_type": "execute_result"
        }
      ],
      "source": [
        "data = df1[[\"country\", \"posgraduate\", \"work_3_years\", \"working_environment\", \"type_employers\", \"type_learning\", \"type_manager\"]]\n",
        "\n",
        "df = pd.DataFrame(data)\n",
        "df.tail(3)"
      ]
    },
    {
      "cell_type": "markdown",
      "metadata": {
        "id": "cTl4iAoFWgo8"
      },
      "source": [
        "En este apartado, estamos creando etiquetas para las siguientes variables seleccionadas:"
      ]
    },
    {
      "cell_type": "code",
      "execution_count": 15,
      "metadata": {
        "colab": {
          "base_uri": "https://localhost:8080/"
        },
        "id": "ib-CpPV5RZc8",
        "outputId": "cbac19a2-747b-4318-97b4-34b3684a3d2a"
      },
      "outputs": [
        {
          "data": {
            "text/html": [
              "<div>\n",
              "<style scoped>\n",
              "    .dataframe tbody tr th:only-of-type {\n",
              "        vertical-align: middle;\n",
              "    }\n",
              "\n",
              "    .dataframe tbody tr th {\n",
              "        vertical-align: top;\n",
              "    }\n",
              "\n",
              "    .dataframe thead th {\n",
              "        text-align: right;\n",
              "    }\n",
              "</style>\n",
              "<table border=\"1\" class=\"dataframe\">\n",
              "  <thead>\n",
              "    <tr style=\"text-align: right;\">\n",
              "      <th></th>\n",
              "      <th>country_Germany</th>\n",
              "      <th>country_India</th>\n",
              "      <th>country_United Arab Emirates</th>\n",
              "      <th>country_United States of America</th>\n",
              "      <th>posgraduate_No I would not be pursuing Higher Education outside of India</th>\n",
              "      <th>posgraduate_No, But if someone could bare the cost I will</th>\n",
              "      <th>posgraduate_Yes, I will earn and do that</th>\n",
              "      <th>work_3_years_No way, 3 years with one employer is crazy</th>\n",
              "      <th>work_3_years_This will be hard to do, but if it is the right company I would try</th>\n",
              "      <th>work_3_years_Will work for 3 years or more</th>\n",
              "      <th>...</th>\n",
              "      <th>type_learning_Instructor or Expert Learning Programs, Trial and error by doing side projects within the company</th>\n",
              "      <th>type_learning_Learning by observing others, Trial and error by doing side projects within the company</th>\n",
              "      <th>type_learning_Self Paced Learning Portals, Instructor or Expert Learning Programs</th>\n",
              "      <th>type_learning_Self Paced Learning Portals, Learning by observing others</th>\n",
              "      <th>type_learning_Self Paced Learning Portals, Trial and error by doing side projects within the company</th>\n",
              "      <th>type_manager_Manager who clearly describes what she/he needs</th>\n",
              "      <th>type_manager_Manager who explains what is expected, sets a goal and helps achieve it</th>\n",
              "      <th>type_manager_Manager who sets goal and helps me achieve it</th>\n",
              "      <th>type_manager_Manager who sets targets and expects me to achieve it</th>\n",
              "      <th>type_manager_Manager who sets unrealistic targets</th>\n",
              "    </tr>\n",
              "  </thead>\n",
              "  <tbody>\n",
              "    <tr>\n",
              "      <th>0</th>\n",
              "      <td>False</td>\n",
              "      <td>True</td>\n",
              "      <td>False</td>\n",
              "      <td>False</td>\n",
              "      <td>False</td>\n",
              "      <td>False</td>\n",
              "      <td>True</td>\n",
              "      <td>False</td>\n",
              "      <td>True</td>\n",
              "      <td>False</td>\n",
              "      <td>...</td>\n",
              "      <td>True</td>\n",
              "      <td>False</td>\n",
              "      <td>False</td>\n",
              "      <td>False</td>\n",
              "      <td>False</td>\n",
              "      <td>False</td>\n",
              "      <td>True</td>\n",
              "      <td>False</td>\n",
              "      <td>False</td>\n",
              "      <td>False</td>\n",
              "    </tr>\n",
              "    <tr>\n",
              "      <th>1</th>\n",
              "      <td>False</td>\n",
              "      <td>True</td>\n",
              "      <td>False</td>\n",
              "      <td>False</td>\n",
              "      <td>False</td>\n",
              "      <td>True</td>\n",
              "      <td>False</td>\n",
              "      <td>False</td>\n",
              "      <td>True</td>\n",
              "      <td>False</td>\n",
              "      <td>...</td>\n",
              "      <td>False</td>\n",
              "      <td>False</td>\n",
              "      <td>True</td>\n",
              "      <td>False</td>\n",
              "      <td>False</td>\n",
              "      <td>False</td>\n",
              "      <td>True</td>\n",
              "      <td>False</td>\n",
              "      <td>False</td>\n",
              "      <td>False</td>\n",
              "    </tr>\n",
              "    <tr>\n",
              "      <th>2</th>\n",
              "      <td>False</td>\n",
              "      <td>True</td>\n",
              "      <td>False</td>\n",
              "      <td>False</td>\n",
              "      <td>False</td>\n",
              "      <td>False</td>\n",
              "      <td>True</td>\n",
              "      <td>False</td>\n",
              "      <td>False</td>\n",
              "      <td>True</td>\n",
              "      <td>...</td>\n",
              "      <td>False</td>\n",
              "      <td>False</td>\n",
              "      <td>False</td>\n",
              "      <td>False</td>\n",
              "      <td>True</td>\n",
              "      <td>False</td>\n",
              "      <td>True</td>\n",
              "      <td>False</td>\n",
              "      <td>False</td>\n",
              "      <td>False</td>\n",
              "    </tr>\n",
              "  </tbody>\n",
              "</table>\n",
              "<p>3 rows × 32 columns</p>\n",
              "</div>"
            ],
            "text/plain": [
              "   country_Germany  country_India  country_United Arab Emirates  \\\n",
              "0            False           True                         False   \n",
              "1            False           True                         False   \n",
              "2            False           True                         False   \n",
              "\n",
              "   country_United States of America  \\\n",
              "0                             False   \n",
              "1                             False   \n",
              "2                             False   \n",
              "\n",
              "   posgraduate_No I would not be pursuing Higher Education outside of India  \\\n",
              "0                                              False                          \n",
              "1                                              False                          \n",
              "2                                              False                          \n",
              "\n",
              "   posgraduate_No, But if someone could bare the cost I will  \\\n",
              "0                                              False           \n",
              "1                                               True           \n",
              "2                                              False           \n",
              "\n",
              "   posgraduate_Yes, I will earn and do that  \\\n",
              "0                                      True   \n",
              "1                                     False   \n",
              "2                                      True   \n",
              "\n",
              "   work_3_years_No way, 3 years with one employer is crazy  \\\n",
              "0                                              False         \n",
              "1                                              False         \n",
              "2                                              False         \n",
              "\n",
              "   work_3_years_This will be hard to do, but if it is the right company I would try  \\\n",
              "0                                               True                                  \n",
              "1                                               True                                  \n",
              "2                                              False                                  \n",
              "\n",
              "   work_3_years_Will work for 3 years or more  ...  \\\n",
              "0                                       False  ...   \n",
              "1                                       False  ...   \n",
              "2                                        True  ...   \n",
              "\n",
              "   type_learning_Instructor or Expert Learning Programs, Trial and error by doing side projects within the company  \\\n",
              "0                                               True                                                                 \n",
              "1                                              False                                                                 \n",
              "2                                              False                                                                 \n",
              "\n",
              "   type_learning_Learning by observing others, Trial and error by doing side projects within the company  \\\n",
              "0                                              False                                                       \n",
              "1                                              False                                                       \n",
              "2                                              False                                                       \n",
              "\n",
              "   type_learning_Self Paced Learning Portals, Instructor or Expert Learning Programs  \\\n",
              "0                                              False                                   \n",
              "1                                               True                                   \n",
              "2                                              False                                   \n",
              "\n",
              "   type_learning_Self Paced Learning Portals, Learning by observing others  \\\n",
              "0                                              False                         \n",
              "1                                              False                         \n",
              "2                                              False                         \n",
              "\n",
              "   type_learning_Self Paced Learning Portals, Trial and error by doing side projects within the company  \\\n",
              "0                                              False                                                      \n",
              "1                                              False                                                      \n",
              "2                                               True                                                      \n",
              "\n",
              "   type_manager_Manager who clearly describes what she/he needs  \\\n",
              "0                                              False              \n",
              "1                                              False              \n",
              "2                                              False              \n",
              "\n",
              "   type_manager_Manager who explains what is expected, sets a goal and helps achieve it  \\\n",
              "0                                               True                                      \n",
              "1                                               True                                      \n",
              "2                                               True                                      \n",
              "\n",
              "   type_manager_Manager who sets goal and helps me achieve it  \\\n",
              "0                                              False            \n",
              "1                                              False            \n",
              "2                                              False            \n",
              "\n",
              "   type_manager_Manager who sets targets and expects me to achieve it  \\\n",
              "0                                              False                    \n",
              "1                                              False                    \n",
              "2                                              False                    \n",
              "\n",
              "   type_manager_Manager who sets unrealistic targets  \n",
              "0                                              False  \n",
              "1                                              False  \n",
              "2                                              False  \n",
              "\n",
              "[3 rows x 32 columns]"
            ]
          },
          "execution_count": 15,
          "metadata": {},
          "output_type": "execute_result"
        }
      ],
      "source": [
        "# Realizar la codificación one-hot en una columna categórica\n",
        "df = pd.get_dummies(df, columns=[\"country\", \"posgraduate\", \"work_3_years\", \"working_environment\", \"type_employers\", \"type_learning\", \"type_manager\"])\n",
        "df.head(3)"
      ]
    },
    {
      "cell_type": "markdown",
      "metadata": {
        "id": "ij6l7iyKtctG"
      },
      "source": [
        "Verificamos el procesamiento de estos datos"
      ]
    },
    {
      "cell_type": "code",
      "execution_count": 16,
      "metadata": {
        "colab": {
          "base_uri": "https://localhost:8080/"
        },
        "id": "mYNRWYn9WG_9",
        "outputId": "e22fd026-f93f-415a-fef4-a6345fe36025"
      },
      "outputs": [
        {
          "name": "stdout",
          "output_type": "stream",
          "text": [
            "<class 'pandas.core.frame.DataFrame'>\n",
            "RangeIndex: 235 entries, 0 to 234\n",
            "Data columns (total 32 columns):\n",
            " #   Column                                                                                                           Non-Null Count  Dtype\n",
            "---  ------                                                                                                           --------------  -----\n",
            " 0   country_Germany                                                                                                  235 non-null    bool \n",
            " 1   country_India                                                                                                    235 non-null    bool \n",
            " 2   country_United Arab Emirates                                                                                     235 non-null    bool \n",
            " 3   country_United States of America                                                                                 235 non-null    bool \n",
            " 4   posgraduate_No I would not be pursuing Higher Education outside of India                                         235 non-null    bool \n",
            " 5   posgraduate_No, But if someone could bare the cost I will                                                        235 non-null    bool \n",
            " 6   posgraduate_Yes, I will earn and do that                                                                         235 non-null    bool \n",
            " 7   work_3_years_No way, 3 years with one employer is crazy                                                          235 non-null    bool \n",
            " 8   work_3_years_This will be hard to do, but if it is the right company I would try                                 235 non-null    bool \n",
            " 9   work_3_years_Will work for 3 years or more                                                                       235 non-null    bool \n",
            " 10  working_environment_Every Day Office Environment                                                                 235 non-null    bool \n",
            " 11  working_environment_Fully Remote with No option to visit offices                                                 235 non-null    bool \n",
            " 12  working_environment_Fully Remote with Options to travel as and when needed                                       235 non-null    bool \n",
            " 13  working_environment_Hybrid Working Environment with less than 10 days a month at office                          235 non-null    bool \n",
            " 14  working_environment_Hybrid Working Environment with less than 15 days a month at office                          235 non-null    bool \n",
            " 15  working_environment_Hybrid Working Environment with less than 3 days a month at office                           235 non-null    bool \n",
            " 16  type_employers_Employer who appreciates learning and enables that environment                                    235 non-null    bool \n",
            " 17  type_employers_Employer who pushes your limits and doesn't enables learning environment and never rewards you    235 non-null    bool \n",
            " 18  type_employers_Employer who pushes your limits by enabling an learning environment, and rewards you at the end   235 non-null    bool \n",
            " 19  type_employers_Employer who rewards learning and enables that environment                                        235 non-null    bool \n",
            " 20  type_employers_Employers who appreciates learning but doesn't enables an learning environment                    235 non-null    bool \n",
            " 21  type_learning_Instructor or Expert Learning Programs, Learning by observing others                               235 non-null    bool \n",
            " 22  type_learning_Instructor or Expert Learning Programs, Trial and error by doing side projects within the company  235 non-null    bool \n",
            " 23  type_learning_Learning by observing others, Trial and error by doing side projects within the company            235 non-null    bool \n",
            " 24  type_learning_Self Paced Learning Portals, Instructor or Expert Learning Programs                                235 non-null    bool \n",
            " 25  type_learning_Self Paced Learning Portals, Learning by observing others                                          235 non-null    bool \n",
            " 26  type_learning_Self Paced Learning Portals, Trial and error by doing side projects within the company             235 non-null    bool \n",
            " 27  type_manager_Manager who clearly describes what she/he needs                                                     235 non-null    bool \n",
            " 28  type_manager_Manager who explains what is expected, sets a goal and helps achieve it                             235 non-null    bool \n",
            " 29  type_manager_Manager who sets goal and helps me achieve it                                                       235 non-null    bool \n",
            " 30  type_manager_Manager who sets targets and expects me to achieve it                                               235 non-null    bool \n",
            " 31  type_manager_Manager who sets unrealistic targets                                                                235 non-null    bool \n",
            "dtypes: bool(32)\n",
            "memory usage: 7.5 KB\n"
          ]
        }
      ],
      "source": [
        "df.info()"
      ]
    },
    {
      "cell_type": "markdown",
      "metadata": {
        "id": "YN1Pv2bXthkJ"
      },
      "source": [
        "Filtramos para comprobar que podemos acceder a estos datos"
      ]
    },
    {
      "cell_type": "code",
      "execution_count": 17,
      "metadata": {
        "colab": {
          "base_uri": "https://localhost:8080/"
        },
        "id": "iRshaicRoUi_",
        "outputId": "cf740aaa-3f86-43bb-c523-58a324f0076d"
      },
      "outputs": [
        {
          "data": {
            "text/html": [
              "<div>\n",
              "<style scoped>\n",
              "    .dataframe tbody tr th:only-of-type {\n",
              "        vertical-align: middle;\n",
              "    }\n",
              "\n",
              "    .dataframe tbody tr th {\n",
              "        vertical-align: top;\n",
              "    }\n",
              "\n",
              "    .dataframe thead th {\n",
              "        text-align: right;\n",
              "    }\n",
              "</style>\n",
              "<table border=\"1\" class=\"dataframe\">\n",
              "  <thead>\n",
              "    <tr style=\"text-align: right;\">\n",
              "      <th></th>\n",
              "      <th>country_Germany</th>\n",
              "      <th>country_India</th>\n",
              "      <th>country_United Arab Emirates</th>\n",
              "      <th>country_United States of America</th>\n",
              "      <th>posgraduate_No I would not be pursuing Higher Education outside of India</th>\n",
              "      <th>posgraduate_No, But if someone could bare the cost I will</th>\n",
              "      <th>posgraduate_Yes, I will earn and do that</th>\n",
              "      <th>work_3_years_No way, 3 years with one employer is crazy</th>\n",
              "      <th>work_3_years_This will be hard to do, but if it is the right company I would try</th>\n",
              "      <th>work_3_years_Will work for 3 years or more</th>\n",
              "      <th>...</th>\n",
              "      <th>type_learning_Instructor or Expert Learning Programs, Trial and error by doing side projects within the company</th>\n",
              "      <th>type_learning_Learning by observing others, Trial and error by doing side projects within the company</th>\n",
              "      <th>type_learning_Self Paced Learning Portals, Instructor or Expert Learning Programs</th>\n",
              "      <th>type_learning_Self Paced Learning Portals, Learning by observing others</th>\n",
              "      <th>type_learning_Self Paced Learning Portals, Trial and error by doing side projects within the company</th>\n",
              "      <th>type_manager_Manager who clearly describes what she/he needs</th>\n",
              "      <th>type_manager_Manager who explains what is expected, sets a goal and helps achieve it</th>\n",
              "      <th>type_manager_Manager who sets goal and helps me achieve it</th>\n",
              "      <th>type_manager_Manager who sets targets and expects me to achieve it</th>\n",
              "      <th>type_manager_Manager who sets unrealistic targets</th>\n",
              "    </tr>\n",
              "  </thead>\n",
              "  <tbody>\n",
              "    <tr>\n",
              "      <th>9</th>\n",
              "      <td>False</td>\n",
              "      <td>True</td>\n",
              "      <td>False</td>\n",
              "      <td>False</td>\n",
              "      <td>False</td>\n",
              "      <td>True</td>\n",
              "      <td>False</td>\n",
              "      <td>False</td>\n",
              "      <td>True</td>\n",
              "      <td>False</td>\n",
              "      <td>...</td>\n",
              "      <td>False</td>\n",
              "      <td>False</td>\n",
              "      <td>False</td>\n",
              "      <td>True</td>\n",
              "      <td>False</td>\n",
              "      <td>False</td>\n",
              "      <td>True</td>\n",
              "      <td>False</td>\n",
              "      <td>False</td>\n",
              "      <td>False</td>\n",
              "    </tr>\n",
              "    <tr>\n",
              "      <th>17</th>\n",
              "      <td>False</td>\n",
              "      <td>True</td>\n",
              "      <td>False</td>\n",
              "      <td>False</td>\n",
              "      <td>False</td>\n",
              "      <td>False</td>\n",
              "      <td>True</td>\n",
              "      <td>False</td>\n",
              "      <td>False</td>\n",
              "      <td>True</td>\n",
              "      <td>...</td>\n",
              "      <td>False</td>\n",
              "      <td>False</td>\n",
              "      <td>True</td>\n",
              "      <td>False</td>\n",
              "      <td>False</td>\n",
              "      <td>False</td>\n",
              "      <td>False</td>\n",
              "      <td>True</td>\n",
              "      <td>False</td>\n",
              "      <td>False</td>\n",
              "    </tr>\n",
              "  </tbody>\n",
              "</table>\n",
              "<p>2 rows × 32 columns</p>\n",
              "</div>"
            ],
            "text/plain": [
              "    country_Germany  country_India  country_United Arab Emirates  \\\n",
              "9             False           True                         False   \n",
              "17            False           True                         False   \n",
              "\n",
              "    country_United States of America  \\\n",
              "9                              False   \n",
              "17                             False   \n",
              "\n",
              "    posgraduate_No I would not be pursuing Higher Education outside of India  \\\n",
              "9                                               False                          \n",
              "17                                              False                          \n",
              "\n",
              "    posgraduate_No, But if someone could bare the cost I will  \\\n",
              "9                                                True           \n",
              "17                                              False           \n",
              "\n",
              "    posgraduate_Yes, I will earn and do that  \\\n",
              "9                                      False   \n",
              "17                                      True   \n",
              "\n",
              "    work_3_years_No way, 3 years with one employer is crazy  \\\n",
              "9                                               False         \n",
              "17                                              False         \n",
              "\n",
              "    work_3_years_This will be hard to do, but if it is the right company I would try  \\\n",
              "9                                                True                                  \n",
              "17                                              False                                  \n",
              "\n",
              "    work_3_years_Will work for 3 years or more  ...  \\\n",
              "9                                        False  ...   \n",
              "17                                        True  ...   \n",
              "\n",
              "    type_learning_Instructor or Expert Learning Programs, Trial and error by doing side projects within the company  \\\n",
              "9                                               False                                                                 \n",
              "17                                              False                                                                 \n",
              "\n",
              "    type_learning_Learning by observing others, Trial and error by doing side projects within the company  \\\n",
              "9                                               False                                                       \n",
              "17                                              False                                                       \n",
              "\n",
              "    type_learning_Self Paced Learning Portals, Instructor or Expert Learning Programs  \\\n",
              "9                                               False                                   \n",
              "17                                               True                                   \n",
              "\n",
              "    type_learning_Self Paced Learning Portals, Learning by observing others  \\\n",
              "9                                                True                         \n",
              "17                                              False                         \n",
              "\n",
              "    type_learning_Self Paced Learning Portals, Trial and error by doing side projects within the company  \\\n",
              "9                                               False                                                      \n",
              "17                                              False                                                      \n",
              "\n",
              "    type_manager_Manager who clearly describes what she/he needs  \\\n",
              "9                                               False              \n",
              "17                                              False              \n",
              "\n",
              "    type_manager_Manager who explains what is expected, sets a goal and helps achieve it  \\\n",
              "9                                                True                                      \n",
              "17                                              False                                      \n",
              "\n",
              "    type_manager_Manager who sets goal and helps me achieve it  \\\n",
              "9                                               False            \n",
              "17                                               True            \n",
              "\n",
              "    type_manager_Manager who sets targets and expects me to achieve it  \\\n",
              "9                                               False                    \n",
              "17                                              False                    \n",
              "\n",
              "    type_manager_Manager who sets unrealistic targets  \n",
              "9                                               False  \n",
              "17                                              False  \n",
              "\n",
              "[2 rows x 32 columns]"
            ]
          },
          "execution_count": 17,
          "metadata": {},
          "output_type": "execute_result"
        }
      ],
      "source": [
        "df_filter = df[df['working_environment_Every Day Office Environment'] == 1]\n",
        "df_filter.head(2)"
      ]
    },
    {
      "cell_type": "markdown",
      "metadata": {
        "id": "kdzZ3KhVphHN"
      },
      "source": [
        "En la filtración de arriba he comprobado que se han asignado a número las siguientes categorías:\n",
        " - 0 Germany - tenemos 2 personas alemanas\n",
        " - 1 India - 231 personas de la India\n",
        " - 2 Emiratos Árabes Unidos - 1 persona de EAU\n",
        " - 3 USA - 1 persona de USA"
      ]
    },
    {
      "cell_type": "markdown",
      "metadata": {
        "id": "SBdHIiAekISy"
      },
      "source": [
        "## Escala y train_split"
      ]
    },
    {
      "cell_type": "code",
      "execution_count": 18,
      "metadata": {
        "colab": {
          "base_uri": "https://localhost:8080/"
        },
        "id": "el4tes3jaqiz",
        "outputId": "f9f5e7a8-b859-4708-da26-e2181daca117"
      },
      "outputs": [
        {
          "name": "stdout",
          "output_type": "stream",
          "text": [
            "(176, 23)\n",
            "(176, 6)\n",
            "(59, 23)\n"
          ]
        }
      ],
      "source": [
        "X = df.drop(columns=['working_environment_Every Day Office Environment',\n",
        "                     'working_environment_Fully Remote with No option to visit offices',\n",
        "                     'working_environment_Fully Remote with Options to travel as and when needed',\n",
        "                     'working_environment_Hybrid Working Environment with less than 10 days a month at office',\n",
        "                     'working_environment_Hybrid Working Environment with less than 15 days a month at office',\n",
        "                     'working_environment_Hybrid Working Environment with less than 3 days a month at office',\n",
        "                     'country_Germany',\n",
        "                     'country_United Arab Emirates',\n",
        "                     'country_United States of America',\n",
        "                     ])\n",
        "y = df[['working_environment_Every Day Office Environment',\n",
        "      'working_environment_Fully Remote with No option to visit offices',\n",
        "      'working_environment_Fully Remote with Options to travel as and when needed',\n",
        "      'working_environment_Hybrid Working Environment with less than 10 days a month at office',\n",
        "      'working_environment_Hybrid Working Environment with less than 15 days a month at office',\n",
        "      'working_environment_Hybrid Working Environment with less than 3 days a month at office']] #variable objetivo\n",
        "\n",
        "X_train, X_test, y_train, y_test = train_test_split(X, y, random_state=1)\n",
        "print(X_train.shape)\n",
        "print(y_train.shape)\n",
        "print(X_test.shape)"
      ]
    },
    {
      "cell_type": "code",
      "execution_count": 19,
      "metadata": {
        "id": "VpuytNVAkKG9"
      },
      "outputs": [],
      "source": [
        "#Estandarización\n",
        "scaler = StandardScaler()\n",
        "scaler.fit(X_train)\n",
        "X_train_scaled = scaler.transform(X_train)\n",
        "X_test_scaled = scaler.transform(X_test)"
      ]
    },
    {
      "cell_type": "code",
      "execution_count": 20,
      "metadata": {
        "colab": {
          "base_uri": "https://localhost:8080/"
        },
        "id": "i_vSrdion7li",
        "outputId": "8d297996-7b27-47c2-8017-cb0841ed1b25"
      },
      "outputs": [
        {
          "data": {
            "text/plain": [
              "(176, 23)"
            ]
          },
          "execution_count": 20,
          "metadata": {},
          "output_type": "execute_result"
        }
      ],
      "source": [
        "#revisamos forma\n",
        "X_train_scaled.shape"
      ]
    },
    {
      "cell_type": "markdown",
      "metadata": {
        "id": "8r7hG0yDc6c1"
      },
      "source": [
        "## PCA"
      ]
    },
    {
      "cell_type": "markdown",
      "metadata": {
        "id": "hzXxSQnhuKHL"
      },
      "source": [
        "En este apartado aplicaremos Principal Component Analysis (PCA), para este caso me ha ayudado a encontrar valores atípicos. Mejor que una gráfica de bigotes."
      ]
    },
    {
      "cell_type": "code",
      "execution_count": 53,
      "metadata": {
        "id": "Gw4JW9rpc8r1"
      },
      "outputs": [],
      "source": [
        "#Obteniendo los componentes principales\n",
        "pca = PCA(n_components=2)\n",
        "principal_comp = pca.fit_transform(X_train_scaled)"
      ]
    },
    {
      "cell_type": "code",
      "execution_count": 54,
      "metadata": {
        "colab": {
          "base_uri": "https://localhost:8080/",
          "height": 206
        },
        "id": "JExDX4kyc-hN",
        "outputId": "36a960c3-cefc-477b-e528-8435ce4e18c9"
      },
      "outputs": [
        {
          "data": {
            "text/html": [
              "<div>\n",
              "<style scoped>\n",
              "    .dataframe tbody tr th:only-of-type {\n",
              "        vertical-align: middle;\n",
              "    }\n",
              "\n",
              "    .dataframe tbody tr th {\n",
              "        vertical-align: top;\n",
              "    }\n",
              "\n",
              "    .dataframe thead th {\n",
              "        text-align: right;\n",
              "    }\n",
              "</style>\n",
              "<table border=\"1\" class=\"dataframe\">\n",
              "  <thead>\n",
              "    <tr style=\"text-align: right;\">\n",
              "      <th></th>\n",
              "      <th>pca1</th>\n",
              "      <th>pca2</th>\n",
              "    </tr>\n",
              "  </thead>\n",
              "  <tbody>\n",
              "    <tr>\n",
              "      <th>0</th>\n",
              "      <td>1.080443</td>\n",
              "      <td>-0.795782</td>\n",
              "    </tr>\n",
              "    <tr>\n",
              "      <th>1</th>\n",
              "      <td>0.844693</td>\n",
              "      <td>-3.707708</td>\n",
              "    </tr>\n",
              "    <tr>\n",
              "      <th>2</th>\n",
              "      <td>-1.500082</td>\n",
              "      <td>0.481878</td>\n",
              "    </tr>\n",
              "    <tr>\n",
              "      <th>3</th>\n",
              "      <td>-1.175386</td>\n",
              "      <td>-0.019241</td>\n",
              "    </tr>\n",
              "    <tr>\n",
              "      <th>4</th>\n",
              "      <td>0.894763</td>\n",
              "      <td>1.903436</td>\n",
              "    </tr>\n",
              "  </tbody>\n",
              "</table>\n",
              "</div>"
            ],
            "text/plain": [
              "       pca1      pca2\n",
              "0  1.080443 -0.795782\n",
              "1  0.844693 -3.707708\n",
              "2 -1.500082  0.481878\n",
              "3 -1.175386 -0.019241\n",
              "4  0.894763  1.903436"
            ]
          },
          "execution_count": 54,
          "metadata": {},
          "output_type": "execute_result"
        }
      ],
      "source": [
        "#crea dataframe con los componentes principales\n",
        "pca_df = pd.DataFrame(data = principal_comp, columns =['pca1','pca2'])\n",
        "pca_df.head()"
      ]
    },
    {
      "cell_type": "code",
      "execution_count": 55,
      "metadata": {
        "colab": {
          "base_uri": "https://localhost:8080/",
          "height": 472
        },
        "id": "O26ElxdtdB7F",
        "outputId": "bb1ebc1c-6579-4c0d-f805-e430987c983d"
      },
      "outputs": [
        {
          "data": {
            "image/png": "[encoded data removed]",
            "text/plain": [
              "<Figure size 640x480 with 1 Axes>"
            ]
          },
          "metadata": {},
          "output_type": "display_data"
        }
      ],
      "source": [
        "#visualización 2-D\n",
        "plt.scatter(pca_df['pca1'], pca_df['pca2'])\n",
        "plt.title('PCA: Componentes Principales')\n",
        "plt.xlabel('Componente Principal 1')\n",
        "plt.ylabel('Componente Principal 2')\n",
        "plt.show()"
      ]
    },
    {
      "cell_type": "code",
      "execution_count": 56,
      "metadata": {
        "id": "dr6YW-EqZruv"
      },
      "outputs": [],
      "source": [
        "#Obteniendo los componentes principales\n",
        "pca = PCA(n_components=3)\n",
        "principal_comp = pca.fit_transform(X_train_scaled)"
      ]
    },
    {
      "cell_type": "code",
      "execution_count": 57,
      "metadata": {
        "colab": {
          "base_uri": "https://localhost:8080/",
          "height": 206
        },
        "id": "igdv8aCGZk6w",
        "outputId": "653a2343-9221-4cb6-a8c3-0e754a678585"
      },
      "outputs": [
        {
          "data": {
            "text/html": [
              "<div>\n",
              "<style scoped>\n",
              "    .dataframe tbody tr th:only-of-type {\n",
              "        vertical-align: middle;\n",
              "    }\n",
              "\n",
              "    .dataframe tbody tr th {\n",
              "        vertical-align: top;\n",
              "    }\n",
              "\n",
              "    .dataframe thead th {\n",
              "        text-align: right;\n",
              "    }\n",
              "</style>\n",
              "<table border=\"1\" class=\"dataframe\">\n",
              "  <thead>\n",
              "    <tr style=\"text-align: right;\">\n",
              "      <th></th>\n",
              "      <th>pca1</th>\n",
              "      <th>pca2</th>\n",
              "      <th>pca3</th>\n",
              "    </tr>\n",
              "  </thead>\n",
              "  <tbody>\n",
              "    <tr>\n",
              "      <th>0</th>\n",
              "      <td>1.080443</td>\n",
              "      <td>-0.795782</td>\n",
              "      <td>-1.593846</td>\n",
              "    </tr>\n",
              "    <tr>\n",
              "      <th>1</th>\n",
              "      <td>0.844693</td>\n",
              "      <td>-3.707708</td>\n",
              "      <td>-1.497588</td>\n",
              "    </tr>\n",
              "    <tr>\n",
              "      <th>2</th>\n",
              "      <td>-1.500082</td>\n",
              "      <td>0.481878</td>\n",
              "      <td>1.020940</td>\n",
              "    </tr>\n",
              "    <tr>\n",
              "      <th>3</th>\n",
              "      <td>-1.175386</td>\n",
              "      <td>-0.019241</td>\n",
              "      <td>2.229917</td>\n",
              "    </tr>\n",
              "    <tr>\n",
              "      <th>4</th>\n",
              "      <td>0.894763</td>\n",
              "      <td>1.903436</td>\n",
              "      <td>-0.974664</td>\n",
              "    </tr>\n",
              "  </tbody>\n",
              "</table>\n",
              "</div>"
            ],
            "text/plain": [
              "       pca1      pca2      pca3\n",
              "0  1.080443 -0.795782 -1.593846\n",
              "1  0.844693 -3.707708 -1.497588\n",
              "2 -1.500082  0.481878  1.020940\n",
              "3 -1.175386 -0.019241  2.229917\n",
              "4  0.894763  1.903436 -0.974664"
            ]
          },
          "execution_count": 57,
          "metadata": {},
          "output_type": "execute_result"
        }
      ],
      "source": [
        "#crea dataframe con los componentes principales\n",
        "pca_df2 = pd.DataFrame(data = principal_comp, columns =['pca1','pca2', 'pca3'])\n",
        "pca_df2.head()"
      ]
    },
    {
      "cell_type": "markdown",
      "metadata": {
        "id": "OAPOQgT4uXVV"
      },
      "source": [
        "Aplicar una gráfica 3D me ayuda a ver desde otra pespectiva que tan unidos están los datos entre sí."
      ]
    },
    {
      "cell_type": "code",
      "execution_count": 58,
      "metadata": {
        "colab": {
          "base_uri": "https://localhost:8080/",
          "height": 817
        },
        "id": "MrABG6nxfNT1",
        "outputId": "9dfddd1a-bfbf-4056-8322-479e1466948d"
      },
      "outputs": [
        {
          "data": {
            "application/vnd.plotly.v1+json": {
              "config": {
                "plotlyServerURL": "https://plot.ly"
              },
              "data": [
                {
                  "marker": {
                    "opacity": 0.8,
                    "size": 5
                  },
                  "mode": "markers",
                  "type": "scatter3d",
                  "x": [
                    1.0804425949570315,
                    0.8446932179409259,
                    -1.500082362276772,
                    -1.1753860956078521,
                    0.894762528137661,
                    1.3305261411892648,
                    -2.743239159550319,
                    1.811990083546251,
                    -1.6559718247547222,
                    1.2562355849167186,
                    1.9289508017807688,
                    1.6028964501436833,
                    2.920130037763591,
                    0.2351455566855423,
                    1.369468435910461,
                    3.185655012040976,
                    1.0223678925253326,
                    -0.033437636371715186,
                    -1.0841064320092315,
                    -2.091735437806331,
                    1.588380865551916,
                    -1.5000823622767747,
                    1.2402186690039565,
                    -3.0051482808108028,
                    -1.4304560180448422,
                    1.4970738002981345,
                    -1.6858962921160279,
                    -1.7453858517707204,
                    -0.1685277744322497,
                    -0.841358943764994,
                    2.616847838075359,
                    -0.6432336822050528,
                    2.875293936593921,
                    0.13887951688216624,
                    0.6188708735993649,
                    -1.655971824754722,
                    -0.336719836059948,
                    0.04437265229669232,
                    -0.426133863075946,
                    2.9631974241109686,
                    -1.6727621057008935,
                    0.9956527885721985,
                    3.0021397188321632,
                    1.2341101903239147,
                    -1.084106432009232,
                    -1.084106432009232,
                    1.8694612421260752,
                    -2.5304423730380003,
                    1.278639753861904,
                    1.2444915144641955,
                    2.5404205839768537,
                    -1.3096222387191119,
                    -1.4208054297994726,
                    -1.7453858517707204,
                    0.1423285545496785,
                    1.5146956685096913,
                    0.027696325801806025,
                    0.364395323592046,
                    1.786824019855501,
                    0.13887951688216624,
                    -1.655971824754722,
                    1.7034349950708874,
                    0.4209594865247974,
                    3.0045999537800543,
                    -1.2706799439979177,
                    -0.6432336822050528,
                    0.8792694553608993,
                    2.3034285438484297,
                    -0.29183010620313604,
                    1.8119900835462497,
                    1.221168595282079,
                    -3.0051482808108028,
                    1.1275687263436789,
                    -0.6432336822050528,
                    -1.2706799439979177,
                    0.15285735600516223,
                    -0.1685277744322497,
                    1.0804425949570322,
                    -1.3526896250664897,
                    -1.4304560180448422,
                    -3.0051482808108028,
                    3.0021397188321632,
                    -1.084106432009232,
                    -0.16422474181546226,
                    -0.5105743278510729,
                    -2.5693846677591945,
                    1.9138840665363943,
                    -0.16769618716686494,
                    -1.7453858517707204,
                    -2.74323915955032,
                    -2.5693846677591945,
                    0.8242426309653911,
                    3.4542382050982336,
                    0.9267028990094975,
                    -2.6124520541065728,
                    -1.3526896250664897,
                    -0.336719836059948,
                    2.720647244999312,
                    -0.29183010620313604,
                    -0.4942496678089279,
                    -0.336719836059948,
                    1.207288377195275,
                    1.93661232279519,
                    1.0678075375468778,
                    -3.0051482808108028,
                    -0.2977775413387538,
                    -1.2932000654117979,
                    2.616847838075359,
                    -1.6727621057008935,
                    1.2096923618635358,
                    1.3320206326461208,
                    -2.3438688610493146,
                    -3.0051482808108028,
                    -0.2968840961694422,
                    1.93661232279519,
                    1.3365381441017787,
                    -0.5727757507077358,
                    -2.5693846677591945,
                    0.23514555668554282,
                    -1.084106432009232,
                    -2.6124520541065728,
                    -3.0051482808108028,
                    0.9652204596349753,
                    2.784892486205414,
                    1.0687145331939527,
                    -2.5304423730380003,
                    -1.2932000654117979,
                    -3.0051482808108028,
                    -1.4861885937122081,
                    0.4778930449297807,
                    -0.2968840961694422,
                    2.214014516832432,
                    1.871921477073966,
                    0.009629749975662466,
                    2.9631974241109686,
                    0.009629749975662466,
                    -1.0643187492251662,
                    2.5163092931481557,
                    -1.4861885937122081,
                    -0.9000888134992313,
                    1.9175150046782077,
                    -2.3438688610493146,
                    1.5231116560904647,
                    1.092066241873218,
                    -1.2706799439979177,
                    -2.3438688610493146,
                    -2.74323915955032,
                    -0.841358943764994,
                    0.4778930449297807,
                    -0.6381796922387472,
                    2.4777362486052628,
                    2.8423636447852383,
                    -0.2264261646721249,
                    -1.4861885937122081,
                    -2.5693846677591945,
                    -2.74323915955032,
                    -1.6990392111021004,
                    -1.2706799439979177,
                    -2.091735437806331,
                    -1.3526896250664897,
                    -3.0051482808108028,
                    2.789342932319845,
                    1.1566716493981415,
                    -0.167696187166864,
                    0.6760183064897212,
                    -2.1474680134736963,
                    -2.5304423730379995,
                    1.2874587548418885,
                    -0.4261338630759458,
                    2.875293936593921,
                    1.5560419478991465,
                    2.017701865784839,
                    -0.24031993323669137,
                    1.2096923618635362,
                    1.643945435416195,
                    3.188713230820849
                  ],
                  "y": [
                    -0.7957822470452669,
                    -3.707707644828567,
                    0.4818775320414564,
                    -0.01924129863149631,
                    1.9034355216720544,
                    1.309986471064478,
                    0.419547251544866,
                    2.2597175359077517,
                    -1.3119091475300768,
                    -0.9995813075334146,
                    -0.15779113479945056,
                    -1.3825908040266737,
                    -1.0582164086363233,
                    -0.6245558160155197,
                    1.8442255193642163,
                    1.4595509565654499,
                    -1.0105969453866988,
                    -1.9410756734189458,
                    1.2851380829489196,
                    -0.7184600969224985,
                    0.22013710284309929,
                    0.481877532041456,
                    -0.5074604309763978,
                    0.041010318635007995,
                    0.10957308382485663,
                    -1.0698069476945373,
                    -1.8686835803294308,
                    0.45710490220156474,
                    -0.33567804785416233,
                    -0.3564262756150567,
                    -2.3387437817118917,
                    -0.27646804554632365,
                    0.8217748034549716,
                    0.30564790297016226,
                    1.964432149882686,
                    -1.3119091475300768,
                    -3.221603046494515,
                    -0.7549691588630877,
                    -1.4525889967628736,
                    -1.1631787825878281,
                    0.832320814290684,
                    1.246763751140157,
                    -0.6289397342880892,
                    -2.6371050196560097,
                    1.2851380829489192,
                    1.2851380829489192,
                    2.1679973477315433,
                    -0.018199683672830855,
                    2.5765257943188824,
                    -0.8676705321891808,
                    0.7585520835306515,
                    -0.13634414840601328,
                    0.5568622100732509,
                    0.45710490220156474,
                    1.2897743623106095,
                    -1.6051708339640032,
                    0.9988542614494256,
                    1.7271301343250944,
                    3.958167179113819,
                    0.30564790297016226,
                    -1.3119091475300768,
                    -1.5792733661543856,
                    1.7260052963553676,
                    -0.5411823701963058,
                    0.39789489989372573,
                    -0.27646804554632365,
                    2.1270295464813858,
                    -1.775272427024025,
                    1.8399804032057379,
                    2.25971753590775,
                    2.668245982495089,
                    0.041010318635007995,
                    1.5170335704553601,
                    -0.27646804554632365,
                    0.39789489989372573,
                    1.394126704503696,
                    -0.33567804785416233,
                    -0.7957822470452676,
                    -0.03138177445450763,
                    0.10957308382485663,
                    0.041010318635007995,
                    -0.6289397342880892,
                    1.2851380829489192,
                    -1.074052063853016,
                    -2.2496170629770798,
                    -0.5524387319725697,
                    1.2215877912906603,
                    1.2731880276971317,
                    0.45710490220156474,
                    0.41954725154486583,
                    -0.5524387319725697,
                    -1.090555175455431,
                    2.7760708139688774,
                    -3.2784309704803363,
                    -0.4474763580210642,
                    -0.03138177445450763,
                    -3.221603046494515,
                    -1.5702785697736164,
                    1.8399804032057379,
                    -0.8643450122351156,
                    -3.221603046494515,
                    -2.2464967847883286,
                    -0.16120128539291045,
                    -2.5840532709603536,
                    0.041010318635007995,
                    -2.687363998194776,
                    -2.3571702569855035,
                    -2.3387437817118917,
                    0.832320814290684,
                    1.5559037032953464,
                    1.6984096787576755,
                    0.8690434993823631,
                    0.041010318635007995,
                    0.89909695357774,
                    -0.16120128539291045,
                    0.10518916555228572,
                    0.9600935817883708,
                    -0.5524387319725697,
                    -0.6245558160155188,
                    1.2851380829489192,
                    -0.4474763580210642,
                    0.041010318635007995,
                    3.139997149006749,
                    -0.8255413621807522,
                    -2.6746486211668343,
                    -0.018199683672830855,
                    -2.3571702569855035,
                    0.041010318635007995,
                    1.7195639973458778,
                    -2.2661201745794957,
                    0.89909695357774,
                    -0.0062583772923837456,
                    2.255754711823326,
                    -2.046038047370452,
                    -1.1631787825878281,
                    -2.046038047370452,
                    -0.11157151856612166,
                    -2.1420612195841797,
                    1.7195639973458778,
                    0.2858784711718165,
                    -0.1715481267860592,
                    0.8690434993823631,
                    0.9924323486074795,
                    1.689282611263689,
                    0.39789489989372573,
                    0.8690434993823631,
                    0.41954725154486583,
                    -0.3564262756150567,
                    -2.2661201745794957,
                    0.6644154040816743,
                    -0.0756889096870926,
                    -0.9172615503569592,
                    2.1356585809124335,
                    1.7195639973458778,
                    -0.5524387319725697,
                    0.41954725154486583,
                    -1.2069467735785706,
                    0.39789489989372573,
                    -0.7184600969224986,
                    -0.03138177445450763,
                    0.041010318635007995,
                    -0.19119279907039247,
                    2.281972454581913,
                    1.2731880276971317,
                    -2.186161944510762,
                    0.8915308165985226,
                    -0.0181996836728309,
                    1.4149488450159824,
                    -1.452588996762874,
                    0.8217748034549711,
                    2.7314687024194098,
                    -0.5341840726656832,
                    0.8979721156080134,
                    1.5559037032953464,
                    0.7465151163766106,
                    0.2583034487671044
                  ],
                  "z": [
                    -1.5938462437491934,
                    -1.4975877830734075,
                    1.0209403478994423,
                    2.229917095283288,
                    -0.9746635399812936,
                    -1.0653800218527685,
                    0.13867995250209855,
                    -1.3978926458991179,
                    -0.6566351216450649,
                    3.7615706285096198,
                    -0.29010446788986644,
                    -1.5281179554044948,
                    0.6149045376102137,
                    0.9736535756163565,
                    -0.9776360616559728,
                    4.790661475604831,
                    0.37442611308451096,
                    1.1353551817073972,
                    0.5222730918037327,
                    -0.5659186397735942,
                    3.661969896267703,
                    1.0209403478994432,
                    0.6545708032235401,
                    0.36056461092973685,
                    -1.1475175583086392,
                    0.3714535914098371,
                    0.8119450947423599,
                    1.1038720103387774,
                    -1.7497175425151572,
                    -1.6882308495873422,
                    -0.7257052819296259,
                    -1.746745020840484,
                    -1.1048819747037206,
                    -0.1676708525995824,
                    -2.7476416249315716,
                    -0.6566351216450645,
                    -0.2052546378324417,
                    2.9138501991012005,
                    1.5552524941514003,
                    0.9440853681827459,
                    -0.34482280811468186,
                    -0.428598725538401,
                    1.031829328379543,
                    0.5013836976114922,
                    0.5222730918037329,
                    0.5222730918037329,
                    0.0018224477065495127,
                    0.3575920892550634,
                    0.4802339314036939,
                    1.6560890587752046,
                    -0.46810067838935215,
                    1.013155528467307,
                    -0.9570418707674526,
                    1.1038720103387774,
                    1.2471033682327621,
                    2.124911749249636,
                    -2.1378682518343424,
                    -0.6585532892631564,
                    1.1701802926570009,
                    -0.1676708525995824,
                    -0.6566351216450645,
                    0.20077796877370566,
                    1.1826488287734391,
                    0.6957391409994148,
                    1.1008994886641041,
                    -1.746745020840484,
                    0.8399481915111002,
                    -2.283790188152519,
                    -0.015721817342047348,
                    -1.3978926458991194,
                    -0.9194811622019745,
                    0.36056461092973685,
                    1.7205528650678814,
                    -1.746745020840484,
                    1.1008994886641041,
                    -1.781485785200753,
                    -1.7497175425151572,
                    -1.5938462437492025,
                    0.6839746978947748,
                    -1.1475175583086392,
                    0.36056461092973685,
                    1.031829328379543,
                    0.5222730918037329,
                    1.3333678357237624,
                    -0.33642281438860905,
                    0.2698481290582664,
                    1.5628124269669632,
                    0.315552928855024,
                    1.1038720103387774,
                    0.13867995250209905,
                    0.2698481290582664,
                    0.4329402843376524,
                    4.628959869513788,
                    -1.0806629923040818,
                    -0.05933270151426574,
                    0.6839746978947748,
                    -0.2052546378324417,
                    -0.1502116988276732,
                    -0.015721817342047348,
                    -0.08576407451082714,
                    -0.2052546378324417,
                    0.5428650593340609,
                    1.5132133337513611,
                    -1.2737748250409369,
                    0.36056461092973685,
                    -0.11751067763564471,
                    0.39204778229835724,
                    -0.7257052819296259,
                    -0.34482280811468186,
                    -3.2260531086287147,
                    -1.3385883921178916,
                    -0.2210343076053078,
                    0.36056461092973685,
                    -0.07695437072811195,
                    1.5132133337513611,
                    -1.0893418055454516,
                    -1.8499324556783838,
                    0.2698481290582664,
                    0.9736535756163557,
                    0.5222730918037329,
                    -0.05933270151426574,
                    0.36056461092973685,
                    -1.0778509748191987,
                    -2.616302812198869,
                    -1.715261849471864,
                    0.3575920892550634,
                    0.39204778229835724,
                    0.36056461092973685,
                    -0.9234492049750528,
                    -1.236850365774719,
                    -0.07695437072811195,
                    -0.5232830561686759,
                    -0.3342677396735784,
                    1.46453601227993,
                    0.9440853681827459,
                    1.46453601227993,
                    0.9302238660279726,
                    -2.454601206107827,
                    -0.9234492049750528,
                    -1.463627809026781,
                    3.1799717099745743,
                    -0.2210343076053078,
                    -1.6679682024058227,
                    1.0588603282640643,
                    1.1008994886641041,
                    -0.2210343076053078,
                    0.13867995250209905,
                    -1.6882308495873422,
                    -1.236850365774719,
                    -1.685512467454419,
                    0.5924407283354785,
                    -1.2165877185932004,
                    -0.180141805566012,
                    -0.9234492049750528,
                    0.2698481290582664,
                    0.13867995250209905,
                    -0.9858159522175965,
                    1.1008994886641041,
                    -0.5659186397735939,
                    0.6839746978947748,
                    0.36056461092973685,
                    0.8129171916265787,
                    -1.1965481984089368,
                    0.31555292885502434,
                    -1.2953645370278608,
                    -0.3418502864400082,
                    0.3575920892550636,
                    -1.394560852425301,
                    1.5552524941514,
                    -1.1048819747037204,
                    -1.5562624585163432,
                    0.8728395580162585,
                    1.7642477473084837,
                    -3.226053108628715,
                    0.4927048843701231,
                    0.453202931519172
                  ]
                }
              ],
              "layout": {
                "height": 800,
                "scene": {
                  "camera": {
                    "center": {
                      "x": 0,
                      "y": 0,
                      "z": 0
                    },
                    "eye": {
                      "x": 1.25,
                      "y": 1.25,
                      "z": 1.25
                    },
                    "up": {
                      "x": 0,
                      "y": 0,
                      "z": 1
                    }
                  },
                  "xaxis": {
                    "title": {
                      "text": "Componente 1"
                    }
                  },
                  "yaxis": {
                    "title": {
                      "text": "Componente 2"
                    }
                  },
                  "zaxis": {
                    "title": {
                      "text": "Componente 3"
                    }
                  }
                },
                "template": {
                  "data": {
                    "bar": [
                      {
                        "error_x": {
                          "color": "#2a3f5f"
                        },
                        "error_y": {
                          "color": "#2a3f5f"
                        },
                        "marker": {
                          "line": {
                            "color": "#E5ECF6",
                            "width": 0.5
                          },
                          "pattern": {
                            "fillmode": "overlay",
                            "size": 10,
                            "solidity": 0.2
                          }
                        },
                        "type": "bar"
                      }
                    ],
                    "barpolar": [
                      {
                        "marker": {
                          "line": {
                            "color": "#E5ECF6",
                            "width": 0.5
                          },
                          "pattern": {
                            "fillmode": "overlay",
                            "size": 10,
                            "solidity": 0.2
                          }
                        },
                        "type": "barpolar"
                      }
                    ],
                    "carpet": [
                      {
                        "aaxis": {
                          "endlinecolor": "#2a3f5f",
                          "gridcolor": "white",
                          "linecolor": "white",
                          "minorgridcolor": "white",
                          "startlinecolor": "#2a3f5f"
                        },
                        "baxis": {
                          "endlinecolor": "#2a3f5f",
                          "gridcolor": "white",
                          "linecolor": "white",
                          "minorgridcolor": "white",
                          "startlinecolor": "#2a3f5f"
                        },
                        "type": "carpet"
                      }
                    ],
                    "choropleth": [
                      {
                        "colorbar": {
                          "outlinewidth": 0,
                          "ticks": ""
                        },
                        "type": "choropleth"
                      }
                    ],
                    "contour": [
                      {
                        "colorbar": {
                          "outlinewidth": 0,
                          "ticks": ""
                        },
                        "colorscale": [
                          [
                            0,
                            "#0d0887"
                          ],
                          [
                            0.1111111111111111,
                            "#46039f"
                          ],
                          [
                            0.2222222222222222,
                            "#7201a8"
                          ],
                          [
                            0.3333333333333333,
                            "#9c179e"
                          ],
                          [
                            0.4444444444444444,
                            "#bd3786"
                          ],
                          [
                            0.5555555555555556,
                            "#d8576b"
                          ],
                          [
                            0.6666666666666666,
                            "#ed7953"
                          ],
                          [
                            0.7777777777777778,
                            "#fb9f3a"
                          ],
                          [
                            0.8888888888888888,
                            "#fdca26"
                          ],
                          [
                            1,
                            "#f0f921"
                          ]
                        ],
                        "type": "contour"
                      }
                    ],
                    "contourcarpet": [
                      {
                        "colorbar": {
                          "outlinewidth": 0,
                          "ticks": ""
                        },
                        "type": "contourcarpet"
                      }
                    ],
                    "heatmap": [
                      {
                        "colorbar": {
                          "outlinewidth": 0,
                          "ticks": ""
                        },
                        "colorscale": [
                          [
                            0,
                            "#0d0887"
                          ],
                          [
                            0.1111111111111111,
                            "#46039f"
                          ],
                          [
                            0.2222222222222222,
                            "#7201a8"
                          ],
                          [
                            0.3333333333333333,
                            "#9c179e"
                          ],
                          [
                            0.4444444444444444,
                            "#bd3786"
                          ],
                          [
                            0.5555555555555556,
                            "#d8576b"
                          ],
                          [
                            0.6666666666666666,
                            "#ed7953"
                          ],
                          [
                            0.7777777777777778,
                            "#fb9f3a"
                          ],
                          [
                            0.8888888888888888,
                            "#fdca26"
                          ],
                          [
                            1,
                            "#f0f921"
                          ]
                        ],
                        "type": "heatmap"
                      }
                    ],
                    "heatmapgl": [
                      {
                        "colorbar": {
                          "outlinewidth": 0,
                          "ticks": ""
                        },
                        "colorscale": [
                          [
                            0,
                            "#0d0887"
                          ],
                          [
                            0.1111111111111111,
                            "#46039f"
                          ],
                          [
                            0.2222222222222222,
                            "#7201a8"
                          ],
                          [
                            0.3333333333333333,
                            "#9c179e"
                          ],
                          [
                            0.4444444444444444,
                            "#bd3786"
                          ],
                          [
                            0.5555555555555556,
                            "#d8576b"
                          ],
                          [
                            0.6666666666666666,
                            "#ed7953"
                          ],
                          [
                            0.7777777777777778,
                            "#fb9f3a"
                          ],
                          [
                            0.8888888888888888,
                            "#fdca26"
                          ],
                          [
                            1,
                            "#f0f921"
                          ]
                        ],
                        "type": "heatmapgl"
                      }
                    ],
                    "histogram": [
                      {
                        "marker": {
                          "pattern": {
                            "fillmode": "overlay",
                            "size": 10,
                            "solidity": 0.2
                          }
                        },
                        "type": "histogram"
                      }
                    ],
                    "histogram2d": [
                      {
                        "colorbar": {
                          "outlinewidth": 0,
                          "ticks": ""
                        },
                        "colorscale": [
                          [
                            0,
                            "#0d0887"
                          ],
                          [
                            0.1111111111111111,
                            "#46039f"
                          ],
                          [
                            0.2222222222222222,
                            "#7201a8"
                          ],
                          [
                            0.3333333333333333,
                            "#9c179e"
                          ],
                          [
                            0.4444444444444444,
                            "#bd3786"
                          ],
                          [
                            0.5555555555555556,
                            "#d8576b"
                          ],
                          [
                            0.6666666666666666,
                            "#ed7953"
                          ],
                          [
                            0.7777777777777778,
                            "#fb9f3a"
                          ],
                          [
                            0.8888888888888888,
                            "#fdca26"
                          ],
                          [
                            1,
                            "#f0f921"
                          ]
                        ],
                        "type": "histogram2d"
                      }
                    ],
                    "histogram2dcontour": [
                      {
                        "colorbar": {
                          "outlinewidth": 0,
                          "ticks": ""
                        },
                        "colorscale": [
                          [
                            0,
                            "#0d0887"
                          ],
                          [
                            0.1111111111111111,
                            "#46039f"
                          ],
                          [
                            0.2222222222222222,
                            "#7201a8"
                          ],
                          [
                            0.3333333333333333,
                            "#9c179e"
                          ],
                          [
                            0.4444444444444444,
                            "#bd3786"
                          ],
                          [
                            0.5555555555555556,
                            "#d8576b"
                          ],
                          [
                            0.6666666666666666,
                            "#ed7953"
                          ],
                          [
                            0.7777777777777778,
                            "#fb9f3a"
                          ],
                          [
                            0.8888888888888888,
                            "#fdca26"
                          ],
                          [
                            1,
                            "#f0f921"
                          ]
                        ],
                        "type": "histogram2dcontour"
                      }
                    ],
                    "mesh3d": [
                      {
                        "colorbar": {
                          "outlinewidth": 0,
                          "ticks": ""
                        },
                        "type": "mesh3d"
                      }
                    ],
                    "parcoords": [
                      {
                        "line": {
                          "colorbar": {
                            "outlinewidth": 0,
                            "ticks": ""
                          }
                        },
                        "type": "parcoords"
                      }
                    ],
                    "pie": [
                      {
                        "automargin": true,
                        "type": "pie"
                      }
                    ],
                    "scatter": [
                      {
                        "fillpattern": {
                          "fillmode": "overlay",
                          "size": 10,
                          "solidity": 0.2
                        },
                        "type": "scatter"
                      }
                    ],
                    "scatter3d": [
                      {
                        "line": {
                          "colorbar": {
                            "outlinewidth": 0,
                            "ticks": ""
                          }
                        },
                        "marker": {
                          "colorbar": {
                            "outlinewidth": 0,
                            "ticks": ""
                          }
                        },
                        "type": "scatter3d"
                      }
                    ],
                    "scattercarpet": [
                      {
                        "marker": {
                          "colorbar": {
                            "outlinewidth": 0,
                            "ticks": ""
                          }
                        },
                        "type": "scattercarpet"
                      }
                    ],
                    "scattergeo": [
                      {
                        "marker": {
                          "colorbar": {
                            "outlinewidth": 0,
                            "ticks": ""
                          }
                        },
                        "type": "scattergeo"
                      }
                    ],
                    "scattergl": [
                      {
                        "marker": {
                          "colorbar": {
                            "outlinewidth": 0,
                            "ticks": ""
                          }
                        },
                        "type": "scattergl"
                      }
                    ],
                    "scattermapbox": [
                      {
                        "marker": {
                          "colorbar": {
                            "outlinewidth": 0,
                            "ticks": ""
                          }
                        },
                        "type": "scattermapbox"
                      }
                    ],
                    "scatterpolar": [
                      {
                        "marker": {
                          "colorbar": {
                            "outlinewidth": 0,
                            "ticks": ""
                          }
                        },
                        "type": "scatterpolar"
                      }
                    ],
                    "scatterpolargl": [
                      {
                        "marker": {
                          "colorbar": {
                            "outlinewidth": 0,
                            "ticks": ""
                          }
                        },
                        "type": "scatterpolargl"
                      }
                    ],
                    "scatterternary": [
                      {
                        "marker": {
                          "colorbar": {
                            "outlinewidth": 0,
                            "ticks": ""
                          }
                        },
                        "type": "scatterternary"
                      }
                    ],
                    "surface": [
                      {
                        "colorbar": {
                          "outlinewidth": 0,
                          "ticks": ""
                        },
                        "colorscale": [
                          [
                            0,
                            "#0d0887"
                          ],
                          [
                            0.1111111111111111,
                            "#46039f"
                          ],
                          [
                            0.2222222222222222,
                            "#7201a8"
                          ],
                          [
                            0.3333333333333333,
                            "#9c179e"
                          ],
                          [
                            0.4444444444444444,
                            "#bd3786"
                          ],
                          [
                            0.5555555555555556,
                            "#d8576b"
                          ],
                          [
                            0.6666666666666666,
                            "#ed7953"
                          ],
                          [
                            0.7777777777777778,
                            "#fb9f3a"
                          ],
                          [
                            0.8888888888888888,
                            "#fdca26"
                          ],
                          [
                            1,
                            "#f0f921"
                          ]
                        ],
                        "type": "surface"
                      }
                    ],
                    "table": [
                      {
                        "cells": {
                          "fill": {
                            "color": "#EBF0F8"
                          },
                          "line": {
                            "color": "white"
                          }
                        },
                        "header": {
                          "fill": {
                            "color": "#C8D4E3"
                          },
                          "line": {
                            "color": "white"
                          }
                        },
                        "type": "table"
                      }
                    ]
                  },
                  "layout": {
                    "annotationdefaults": {
                      "arrowcolor": "#2a3f5f",
                      "arrowhead": 0,
                      "arrowwidth": 1
                    },
                    "autotypenumbers": "strict",
                    "coloraxis": {
                      "colorbar": {
                        "outlinewidth": 0,
                        "ticks": ""
                      }
                    },
                    "colorscale": {
                      "diverging": [
                        [
                          0,
                          "#8e0152"
                        ],
                        [
                          0.1,
                          "#c51b7d"
                        ],
                        [
                          0.2,
                          "#de77ae"
                        ],
                        [
                          0.3,
                          "#f1b6da"
                        ],
                        [
                          0.4,
                          "#fde0ef"
                        ],
                        [
                          0.5,
                          "#f7f7f7"
                        ],
                        [
                          0.6,
                          "#e6f5d0"
                        ],
                        [
                          0.7,
                          "#b8e186"
                        ],
                        [
                          0.8,
                          "#7fbc41"
                        ],
                        [
                          0.9,
                          "#4d9221"
                        ],
                        [
                          1,
                          "#276419"
                        ]
                      ],
                      "sequential": [
                        [
                          0,
                          "#0d0887"
                        ],
                        [
                          0.1111111111111111,
                          "#46039f"
                        ],
                        [
                          0.2222222222222222,
                          "#7201a8"
                        ],
                        [
                          0.3333333333333333,
                          "#9c179e"
                        ],
                        [
                          0.4444444444444444,
                          "#bd3786"
                        ],
                        [
                          0.5555555555555556,
                          "#d8576b"
                        ],
                        [
                          0.6666666666666666,
                          "#ed7953"
                        ],
                        [
                          0.7777777777777778,
                          "#fb9f3a"
                        ],
                        [
                          0.8888888888888888,
                          "#fdca26"
                        ],
                        [
                          1,
                          "#f0f921"
                        ]
                      ],
                      "sequentialminus": [
                        [
                          0,
                          "#0d0887"
                        ],
                        [
                          0.1111111111111111,
                          "#46039f"
                        ],
                        [
                          0.2222222222222222,
                          "#7201a8"
                        ],
                        [
                          0.3333333333333333,
                          "#9c179e"
                        ],
                        [
                          0.4444444444444444,
                          "#bd3786"
                        ],
                        [
                          0.5555555555555556,
                          "#d8576b"
                        ],
                        [
                          0.6666666666666666,
                          "#ed7953"
                        ],
                        [
                          0.7777777777777778,
                          "#fb9f3a"
                        ],
                        [
                          0.8888888888888888,
                          "#fdca26"
                        ],
                        [
                          1,
                          "#f0f921"
                        ]
                      ]
                    },
                    "colorway": [
                      "#636efa",
                      "#EF553B",
                      "#00cc96",
                      "#ab63fa",
                      "#FFA15A",
                      "#19d3f3",
                      "#FF6692",
                      "#B6E880",
                      "#FF97FF",
                      "#FECB52"
                    ],
                    "font": {
                      "color": "#2a3f5f"
                    },
                    "geo": {
                      "bgcolor": "white",
                      "lakecolor": "white",
                      "landcolor": "#E5ECF6",
                      "showlakes": true,
                      "showland": true,
                      "subunitcolor": "white"
                    },
                    "hoverlabel": {
                      "align": "left"
                    },
                    "hovermode": "closest",
                    "mapbox": {
                      "style": "light"
                    },
                    "paper_bgcolor": "white",
                    "plot_bgcolor": "#E5ECF6",
                    "polar": {
                      "angularaxis": {
                        "gridcolor": "white",
                        "linecolor": "white",
                        "ticks": ""
                      },
                      "bgcolor": "#E5ECF6",
                      "radialaxis": {
                        "gridcolor": "white",
                        "linecolor": "white",
                        "ticks": ""
                      }
                    },
                    "scene": {
                      "xaxis": {
                        "backgroundcolor": "#E5ECF6",
                        "gridcolor": "white",
                        "gridwidth": 2,
                        "linecolor": "white",
                        "showbackground": true,
                        "ticks": "",
                        "zerolinecolor": "white"
                      },
                      "yaxis": {
                        "backgroundcolor": "#E5ECF6",
                        "gridcolor": "white",
                        "gridwidth": 2,
                        "linecolor": "white",
                        "showbackground": true,
                        "ticks": "",
                        "zerolinecolor": "white"
                      },
                      "zaxis": {
                        "backgroundcolor": "#E5ECF6",
                        "gridcolor": "white",
                        "gridwidth": 2,
                        "linecolor": "white",
                        "showbackground": true,
                        "ticks": "",
                        "zerolinecolor": "white"
                      }
                    },
                    "shapedefaults": {
                      "line": {
                        "color": "#2a3f5f"
                      }
                    },
                    "ternary": {
                      "aaxis": {
                        "gridcolor": "white",
                        "linecolor": "white",
                        "ticks": ""
                      },
                      "baxis": {
                        "gridcolor": "white",
                        "linecolor": "white",
                        "ticks": ""
                      },
                      "bgcolor": "#E5ECF6",
                      "caxis": {
                        "gridcolor": "white",
                        "linecolor": "white",
                        "ticks": ""
                      }
                    },
                    "title": {
                      "x": 0.05
                    },
                    "xaxis": {
                      "automargin": true,
                      "gridcolor": "white",
                      "linecolor": "white",
                      "ticks": "",
                      "title": {
                        "standoff": 15
                      },
                      "zerolinecolor": "white",
                      "zerolinewidth": 2
                    },
                    "yaxis": {
                      "automargin": true,
                      "gridcolor": "white",
                      "linecolor": "white",
                      "ticks": "",
                      "title": {
                        "standoff": 15
                      },
                      "zerolinecolor": "white",
                      "zerolinewidth": 2
                    }
                  }
                },
                "title": {
                  "text": "Gráfica 3D de componentes"
                },
                "width": 800
              }
            }
          },
          "metadata": {},
          "output_type": "display_data"
        }
      ],
      "source": [
        "#Gráfica 3D con movimiento -- Aquí experimenté cómo se ve la gráfica con 3-D  si tuviera 3 componentes en el PCA -- Ingrid\n",
        "fig = go.Figure()\n",
        "\n",
        "fig.add_trace(go.Scatter3d(\n",
        "    x=pca_df2['pca1'],\n",
        "    y=pca_df2['pca2'],\n",
        "    z=pca_df2['pca3'],\n",
        "    mode='markers',\n",
        "    marker=dict(\n",
        "        size=5,\n",
        "        opacity=0.8,\n",
        "    )\n",
        "))\n",
        "\n",
        "fig.update_layout(\n",
        "    title=\"Gráfica 3D de componentes\",\n",
        "    scene=dict(\n",
        "        xaxis=dict(title='Componente 1'),\n",
        "        yaxis=dict(title='Componente 2'),\n",
        "        zaxis=dict(title='Componente 3'),\n",
        "    ),\n",
        "    scene_camera=dict(\n",
        "        up=dict(x=0, y=0, z=1),\n",
        "        center=dict(x=0, y=0, z=0),\n",
        "        eye=dict(x=1.25, y=1.25, z=1.25)\n",
        "    ),\n",
        "    width=800,\n",
        "    height=800,\n",
        "\n",
        ")\n",
        "\n",
        "fig.show()"
      ]
    },
    {
      "cell_type": "markdown",
      "metadata": {
        "id": "uMr5M0-EvQzn"
      },
      "source": [
        "## Método del codo + K-MEANS"
      ]
    },
    {
      "cell_type": "markdown",
      "metadata": {
        "id": "bosputLNulye"
      },
      "source": [
        "Antes de aplicar K-MEANS, el método del codo nos ayuda a encontrar una primera cantidad óptima de clusters. Es importante recordar que K-MEANS es un método que require de cálculos un poco más manuales, porque se ajustan a la necesidad de agrupamiento que se necesite."
      ]
    },
    {
      "cell_type": "code",
      "execution_count": 59,
      "metadata": {
        "colab": {
          "base_uri": "https://localhost:8080/",
          "height": 449
        },
        "id": "QEtjcbCnod-e",
        "outputId": "9321e803-faab-48f8-cdf0-2ce854e5ef9e"
      },
      "outputs": [
        {
          "data": {
            "image/png": "[encoded data removed]",
            "text/plain": [
              "<Figure size 640x480 with 1 Axes>"
            ]
          },
          "metadata": {},
          "output_type": "display_data"
        }
      ],
      "source": [
        "import numpy as np\n",
        "import matplotlib.pyplot as plt\n",
        "\n",
        "# Rango de valores de K\n",
        "ks = range(1, 10)\n",
        "\n",
        "# Lista para almacenar la inercia para cada valor de K\n",
        "inercias = []\n",
        "\n",
        "# Calcular la inercia para cada valor de K\n",
        "for k in ks:\n",
        "  # Ajustar el modelo KMeans\n",
        "  kmeans = KMeans(n_clusters=k)\n",
        "  kmeans.fit(pca_df)\n",
        "  # Almacenar la inercia\n",
        "  inercias.append(kmeans.inertia_)\n",
        "\n",
        "# Graficar la curva del codo\n",
        "plt.axvline(x=3, color='red', label=\"Punto máximo de inflexión\")\n",
        "plt.plot(ks, inercias, '-o')\n",
        "plt.xlabel('Número de clusters (K)')\n",
        "plt.ylabel('Inercia')\n",
        "plt.show()\n",
        "\n",
        "# Elegir K en el \"codo\" de la curva\n",
        "k_optimo = ks[np.argmin(np.diff(inercias))]"
      ]
    },
    {
      "cell_type": "code",
      "execution_count": 60,
      "metadata": {
        "colab": {
          "base_uri": "https://localhost:8080/",
          "height": 75
        },
        "id": "TdQ2lVTdcNYn",
        "outputId": "e9cfce97-886d-449c-808a-79a2582f74c9"
      },
      "outputs": [
        {
          "data": {
            "text/html": [
              "<style>#sk-container-id-2 {color: black;}#sk-container-id-2 pre{padding: 0;}#sk-container-id-2 div.sk-toggleable {background-color: white;}#sk-container-id-2 label.sk-toggleable__label {cursor: pointer;display: block;width: 100%;margin-bottom: 0;padding: 0.3em;box-sizing: border-box;text-align: center;}#sk-container-id-2 label.sk-toggleable__label-arrow:before {content: \"▸\";float: left;margin-right: 0.25em;color: #696969;}#sk-container-id-2 label.sk-toggleable__label-arrow:hover:before {color: black;}#sk-container-id-2 div.sk-estimator:hover label.sk-toggleable__label-arrow:before {color: black;}#sk-container-id-2 div.sk-toggleable__content {max-height: 0;max-width: 0;overflow: hidden;text-align: left;background-color: #f0f8ff;}#sk-container-id-2 div.sk-toggleable__content pre {margin: 0.2em;color: black;border-radius: 0.25em;background-color: #f0f8ff;}#sk-container-id-2 input.sk-toggleable__control:checked~div.sk-toggleable__content {max-height: 200px;max-width: 100%;overflow: auto;}#sk-container-id-2 input.sk-toggleable__control:checked~label.sk-toggleable__label-arrow:before {content: \"▾\";}#sk-container-id-2 div.sk-estimator input.sk-toggleable__control:checked~label.sk-toggleable__label {background-color: #d4ebff;}#sk-container-id-2 div.sk-label input.sk-toggleable__control:checked~label.sk-toggleable__label {background-color: #d4ebff;}#sk-container-id-2 input.sk-hidden--visually {border: 0;clip: rect(1px 1px 1px 1px);clip: rect(1px, 1px, 1px, 1px);height: 1px;margin: -1px;overflow: hidden;padding: 0;position: absolute;width: 1px;}#sk-container-id-2 div.sk-estimator {font-family: monospace;background-color: #f0f8ff;border: 1px dotted black;border-radius: 0.25em;box-sizing: border-box;margin-bottom: 0.5em;}#sk-container-id-2 div.sk-estimator:hover {background-color: #d4ebff;}#sk-container-id-2 div.sk-parallel-item::after {content: \"\";width: 100%;border-bottom: 1px solid gray;flex-grow: 1;}#sk-container-id-2 div.sk-label:hover label.sk-toggleable__label {background-color: #d4ebff;}#sk-container-id-2 div.sk-serial::before {content: \"\";position: absolute;border-left: 1px solid gray;box-sizing: border-box;top: 0;bottom: 0;left: 50%;z-index: 0;}#sk-container-id-2 div.sk-serial {display: flex;flex-direction: column;align-items: center;background-color: white;padding-right: 0.2em;padding-left: 0.2em;position: relative;}#sk-container-id-2 div.sk-item {position: relative;z-index: 1;}#sk-container-id-2 div.sk-parallel {display: flex;align-items: stretch;justify-content: center;background-color: white;position: relative;}#sk-container-id-2 div.sk-item::before, #sk-container-id-2 div.sk-parallel-item::before {content: \"\";position: absolute;border-left: 1px solid gray;box-sizing: border-box;top: 0;bottom: 0;left: 50%;z-index: -1;}#sk-container-id-2 div.sk-parallel-item {display: flex;flex-direction: column;z-index: 1;position: relative;background-color: white;}#sk-container-id-2 div.sk-parallel-item:first-child::after {align-self: flex-end;width: 50%;}#sk-container-id-2 div.sk-parallel-item:last-child::after {align-self: flex-start;width: 50%;}#sk-container-id-2 div.sk-parallel-item:only-child::after {width: 0;}#sk-container-id-2 div.sk-dashed-wrapped {border: 1px dashed gray;margin: 0 0.4em 0.5em 0.4em;box-sizing: border-box;padding-bottom: 0.4em;background-color: white;}#sk-container-id-2 div.sk-label label {font-family: monospace;font-weight: bold;display: inline-block;line-height: 1.2em;}#sk-container-id-2 div.sk-label-container {text-align: center;}#sk-container-id-2 div.sk-container {/* jupyter's `normalize.less` sets `[hidden] { display: none; }` but bootstrap.min.css set `[hidden] { display: none !important; }` so we also need the `!important` here to be able to override the default hidden behavior on the sphinx rendered scikit-learn.org. See: https://github.com/scikit-learn/scikit-learn/issues/21755 */display: inline-block !important;position: relative;}#sk-container-id-2 div.sk-text-repr-fallback {display: none;}</style><div id=\"sk-container-id-2\" class=\"sk-top-container\"><div class=\"sk-text-repr-fallback\"><pre>KMeans(n_clusters=1)</pre><b>In a Jupyter environment, please rerun this cell to show the HTML representation or trust the notebook. <br />On GitHub, the HTML representation is unable to render, please try loading this page with nbviewer.org.</b></div><div class=\"sk-container\" hidden><div class=\"sk-item\"><div class=\"sk-estimator sk-toggleable\"><input class=\"sk-toggleable__control sk-hidden--visually\" id=\"sk-estimator-id-2\" type=\"checkbox\" checked><label for=\"sk-estimator-id-2\" class=\"sk-toggleable__label sk-toggleable__label-arrow\">KMeans</label><div class=\"sk-toggleable__content\"><pre>KMeans(n_clusters=1)</pre></div></div></div></div></div>"
            ],
            "text/plain": [
              "KMeans(n_clusters=1)"
            ]
          },
          "execution_count": 60,
          "metadata": {},
          "output_type": "execute_result"
        }
      ],
      "source": [
        "# Ajustar el modelo KMeans final con el K óptimo\n",
        "kmeans_final = KMeans(n_clusters=k_optimo)\n",
        "kmeans_final.fit(pca_df)"
      ]
    },
    {
      "cell_type": "code",
      "execution_count": 61,
      "metadata": {
        "id": "a8hySjllyM5d"
      },
      "outputs": [],
      "source": [
        "#Instanciamos y entrenamos\n",
        "kmeans = KMeans(3)\n",
        "kmeans.fit(X_train)\n",
        "labels = kmeans.labels_"
      ]
    },
    {
      "cell_type": "code",
      "execution_count": 62,
      "metadata": {
        "colab": {
          "base_uri": "https://localhost:8080/"
        },
        "id": "rGPOXyOqcuQp",
        "outputId": "c198db0a-90c1-4a3e-e506-2095b4265346"
      },
      "outputs": [
        {
          "data": {
            "text/plain": [
              "(3, 23)"
            ]
          },
          "execution_count": 62,
          "metadata": {},
          "output_type": "execute_result"
        }
      ],
      "source": [
        "#Verificamos shape\n",
        "kmeans.cluster_centers_.shape"
      ]
    },
    {
      "cell_type": "code",
      "execution_count": 63,
      "metadata": {
        "colab": {
          "base_uri": "https://localhost:8080/",
          "height": 297
        },
        "id": "9k2mBX89cxFo",
        "outputId": "b363859b-49da-4c36-a25a-b5744873e513"
      },
      "outputs": [
        {
          "data": {
            "text/html": [
              "<div>\n",
              "<style scoped>\n",
              "    .dataframe tbody tr th:only-of-type {\n",
              "        vertical-align: middle;\n",
              "    }\n",
              "\n",
              "    .dataframe tbody tr th {\n",
              "        vertical-align: top;\n",
              "    }\n",
              "\n",
              "    .dataframe thead tr th {\n",
              "        text-align: left;\n",
              "    }\n",
              "</style>\n",
              "<table border=\"1\" class=\"dataframe\">\n",
              "  <thead>\n",
              "    <tr>\n",
              "      <th></th>\n",
              "      <th>country_India</th>\n",
              "      <th>posgraduate_No I would not be pursuing Higher Education outside of India</th>\n",
              "      <th>posgraduate_No, But if someone could bare the cost I will</th>\n",
              "      <th>posgraduate_Yes, I will earn and do that</th>\n",
              "      <th>work_3_years_No way, 3 years with one employer is crazy</th>\n",
              "      <th>work_3_years_This will be hard to do, but if it is the right company I would try</th>\n",
              "      <th>work_3_years_Will work for 3 years or more</th>\n",
              "      <th>type_employers_Employer who appreciates learning and enables that environment</th>\n",
              "      <th>type_employers_Employer who pushes your limits and doesn't enables learning environment and never rewards you</th>\n",
              "      <th>type_employers_Employer who pushes your limits by enabling an learning environment, and rewards you at the end</th>\n",
              "      <th>...</th>\n",
              "      <th>type_learning_Instructor or Expert Learning Programs, Trial and error by doing side projects within the company</th>\n",
              "      <th>type_learning_Learning by observing others, Trial and error by doing side projects within the company</th>\n",
              "      <th>type_learning_Self Paced Learning Portals, Instructor or Expert Learning Programs</th>\n",
              "      <th>type_learning_Self Paced Learning Portals, Learning by observing others</th>\n",
              "      <th>type_learning_Self Paced Learning Portals, Trial and error by doing side projects within the company</th>\n",
              "      <th>type_manager_Manager who clearly describes what she/he needs</th>\n",
              "      <th>type_manager_Manager who explains what is expected, sets a goal and helps achieve it</th>\n",
              "      <th>type_manager_Manager who sets goal and helps me achieve it</th>\n",
              "      <th>type_manager_Manager who sets targets and expects me to achieve it</th>\n",
              "      <th>type_manager_Manager who sets unrealistic targets</th>\n",
              "    </tr>\n",
              "  </thead>\n",
              "  <tbody>\n",
              "    <tr>\n",
              "      <th>0</th>\n",
              "      <td>0.984848</td>\n",
              "      <td>0.166667</td>\n",
              "      <td>0.560606</td>\n",
              "      <td>0.272727</td>\n",
              "      <td>1.515152e-02</td>\n",
              "      <td>9.393939e-01</td>\n",
              "      <td>4.545455e-02</td>\n",
              "      <td>2.220446e-16</td>\n",
              "      <td>3.122502e-17</td>\n",
              "      <td>0.878788</td>\n",
              "      <td>...</td>\n",
              "      <td>0.272727</td>\n",
              "      <td>0.181818</td>\n",
              "      <td>0.196970</td>\n",
              "      <td>0.136364</td>\n",
              "      <td>0.060606</td>\n",
              "      <td>0.045455</td>\n",
              "      <td>0.924242</td>\n",
              "      <td>0.030303</td>\n",
              "      <td>-6.938894e-17</td>\n",
              "      <td>-1.734723e-17</td>\n",
              "    </tr>\n",
              "    <tr>\n",
              "      <th>1</th>\n",
              "      <td>0.968750</td>\n",
              "      <td>0.375000</td>\n",
              "      <td>0.062500</td>\n",
              "      <td>0.562500</td>\n",
              "      <td>1.250000e-01</td>\n",
              "      <td>-3.330669e-16</td>\n",
              "      <td>8.750000e-01</td>\n",
              "      <td>3.906250e-01</td>\n",
              "      <td>6.250000e-02</td>\n",
              "      <td>0.375000</td>\n",
              "      <td>...</td>\n",
              "      <td>0.156250</td>\n",
              "      <td>0.187500</td>\n",
              "      <td>0.218750</td>\n",
              "      <td>0.171875</td>\n",
              "      <td>0.062500</td>\n",
              "      <td>0.359375</td>\n",
              "      <td>0.375000</td>\n",
              "      <td>0.125000</td>\n",
              "      <td>1.093750e-01</td>\n",
              "      <td>3.125000e-02</td>\n",
              "    </tr>\n",
              "    <tr>\n",
              "      <th>2</th>\n",
              "      <td>0.978261</td>\n",
              "      <td>0.260870</td>\n",
              "      <td>0.086957</td>\n",
              "      <td>0.652174</td>\n",
              "      <td>2.775558e-17</td>\n",
              "      <td>1.000000e+00</td>\n",
              "      <td>-2.220446e-16</td>\n",
              "      <td>6.086957e-01</td>\n",
              "      <td>2.173913e-02</td>\n",
              "      <td>0.108696</td>\n",
              "      <td>...</td>\n",
              "      <td>0.152174</td>\n",
              "      <td>0.043478</td>\n",
              "      <td>0.391304</td>\n",
              "      <td>0.152174</td>\n",
              "      <td>0.152174</td>\n",
              "      <td>0.239130</td>\n",
              "      <td>0.282609</td>\n",
              "      <td>0.347826</td>\n",
              "      <td>1.086957e-01</td>\n",
              "      <td>2.173913e-02</td>\n",
              "    </tr>\n",
              "  </tbody>\n",
              "</table>\n",
              "<p>3 rows × 23 columns</p>\n",
              "</div>"
            ],
            "text/plain": [
              "  country_India  \\\n",
              "0      0.984848   \n",
              "1      0.968750   \n",
              "2      0.978261   \n",
              "\n",
              "  posgraduate_No I would not be pursuing Higher Education outside of India  \\\n",
              "0                                           0.166667                         \n",
              "1                                           0.375000                         \n",
              "2                                           0.260870                         \n",
              "\n",
              "  posgraduate_No, But if someone could bare the cost I will  \\\n",
              "0                                           0.560606          \n",
              "1                                           0.062500          \n",
              "2                                           0.086957          \n",
              "\n",
              "  posgraduate_Yes, I will earn and do that  \\\n",
              "0                                 0.272727   \n",
              "1                                 0.562500   \n",
              "2                                 0.652174   \n",
              "\n",
              "  work_3_years_No way, 3 years with one employer is crazy  \\\n",
              "0                                       1.515152e-02        \n",
              "1                                       1.250000e-01        \n",
              "2                                       2.775558e-17        \n",
              "\n",
              "  work_3_years_This will be hard to do, but if it is the right company I would try  \\\n",
              "0                                       9.393939e-01                                 \n",
              "1                                      -3.330669e-16                                 \n",
              "2                                       1.000000e+00                                 \n",
              "\n",
              "  work_3_years_Will work for 3 years or more  \\\n",
              "0                               4.545455e-02   \n",
              "1                               8.750000e-01   \n",
              "2                              -2.220446e-16   \n",
              "\n",
              "  type_employers_Employer who appreciates learning and enables that environment  \\\n",
              "0                                       2.220446e-16                              \n",
              "1                                       3.906250e-01                              \n",
              "2                                       6.086957e-01                              \n",
              "\n",
              "  type_employers_Employer who pushes your limits and doesn't enables learning environment and never rewards you  \\\n",
              "0                                       3.122502e-17                                                              \n",
              "1                                       6.250000e-02                                                              \n",
              "2                                       2.173913e-02                                                              \n",
              "\n",
              "  type_employers_Employer who pushes your limits by enabling an learning environment, and rewards you at the end  \\\n",
              "0                                           0.878788                                                               \n",
              "1                                           0.375000                                                               \n",
              "2                                           0.108696                                                               \n",
              "\n",
              "   ...  \\\n",
              "0  ...   \n",
              "1  ...   \n",
              "2  ...   \n",
              "\n",
              "  type_learning_Instructor or Expert Learning Programs, Trial and error by doing side projects within the company  \\\n",
              "0                                           0.272727                                                                \n",
              "1                                           0.156250                                                                \n",
              "2                                           0.152174                                                                \n",
              "\n",
              "  type_learning_Learning by observing others, Trial and error by doing side projects within the company  \\\n",
              "0                                           0.181818                                                      \n",
              "1                                           0.187500                                                      \n",
              "2                                           0.043478                                                      \n",
              "\n",
              "  type_learning_Self Paced Learning Portals, Instructor or Expert Learning Programs  \\\n",
              "0                                           0.196970                                  \n",
              "1                                           0.218750                                  \n",
              "2                                           0.391304                                  \n",
              "\n",
              "  type_learning_Self Paced Learning Portals, Learning by observing others  \\\n",
              "0                                           0.136364                        \n",
              "1                                           0.171875                        \n",
              "2                                           0.152174                        \n",
              "\n",
              "  type_learning_Self Paced Learning Portals, Trial and error by doing side projects within the company  \\\n",
              "0                                           0.060606                                                     \n",
              "1                                           0.062500                                                     \n",
              "2                                           0.152174                                                     \n",
              "\n",
              "  type_manager_Manager who clearly describes what she/he needs  \\\n",
              "0                                           0.045455             \n",
              "1                                           0.359375             \n",
              "2                                           0.239130             \n",
              "\n",
              "  type_manager_Manager who explains what is expected, sets a goal and helps achieve it  \\\n",
              "0                                           0.924242                                     \n",
              "1                                           0.375000                                     \n",
              "2                                           0.282609                                     \n",
              "\n",
              "  type_manager_Manager who sets goal and helps me achieve it  \\\n",
              "0                                           0.030303           \n",
              "1                                           0.125000           \n",
              "2                                           0.347826           \n",
              "\n",
              "  type_manager_Manager who sets targets and expects me to achieve it  \\\n",
              "0                                      -6.938894e-17                   \n",
              "1                                       1.093750e-01                   \n",
              "2                                       1.086957e-01                   \n",
              "\n",
              "  type_manager_Manager who sets unrealistic targets  \n",
              "0                                     -1.734723e-17  \n",
              "1                                      3.125000e-02  \n",
              "2                                      2.173913e-02  \n",
              "\n",
              "[3 rows x 23 columns]"
            ]
          },
          "execution_count": 63,
          "metadata": {},
          "output_type": "execute_result"
        }
      ],
      "source": [
        "#obtenemos el dataframe de los centroides\n",
        "cluster_centers = pd.DataFrame(data=kmeans.cluster_centers_,\n",
        "                               columns=[X_train.columns])\n",
        "cluster_centers"
      ]
    },
    {
      "cell_type": "code",
      "execution_count": 64,
      "metadata": {
        "colab": {
          "base_uri": "https://localhost:8080/"
        },
        "id": "3hOdyXBRc04o",
        "outputId": "98bd0d72-a58e-4756-e6d1-d7e8e82559cb"
      },
      "outputs": [
        {
          "name": "stdout",
          "output_type": "stream",
          "text": [
            "<class 'pandas.core.frame.DataFrame'>\n",
            "RangeIndex: 3 entries, 0 to 2\n",
            "Data columns (total 23 columns):\n",
            " #   Column                                                                                                              Non-Null Count  Dtype  \n",
            "---  ------                                                                                                              --------------  -----  \n",
            " 0   (country_India,)                                                                                                    3 non-null      float64\n",
            " 1   (posgraduate_No I would not be pursuing Higher Education outside of India,)                                         3 non-null      float64\n",
            " 2   (posgraduate_No, But if someone could bare the cost I will,)                                                        3 non-null      float64\n",
            " 3   (posgraduate_Yes, I will earn and do that,)                                                                         3 non-null      float64\n",
            " 4   (work_3_years_No way, 3 years with one employer is crazy,)                                                          3 non-null      float64\n",
            " 5   (work_3_years_This will be hard to do, but if it is the right company I would try,)                                 3 non-null      float64\n",
            " 6   (work_3_years_Will work for 3 years or more,)                                                                       3 non-null      float64\n",
            " 7   (type_employers_Employer who appreciates learning and enables that environment,)                                    3 non-null      float64\n",
            " 8   (type_employers_Employer who pushes your limits and doesn't enables learning environment and never rewards you,)    3 non-null      float64\n",
            " 9   (type_employers_Employer who pushes your limits by enabling an learning environment, and rewards you at the end,)   3 non-null      float64\n",
            " 10  (type_employers_Employer who rewards learning and enables that environment,)                                        3 non-null      float64\n",
            " 11  (type_employers_Employers who appreciates learning but doesn't enables an learning environment,)                    3 non-null      float64\n",
            " 12  (type_learning_Instructor or Expert Learning Programs, Learning by observing others,)                               3 non-null      float64\n",
            " 13  (type_learning_Instructor or Expert Learning Programs, Trial and error by doing side projects within the company,)  3 non-null      float64\n",
            " 14  (type_learning_Learning by observing others, Trial and error by doing side projects within the company,)            3 non-null      float64\n",
            " 15  (type_learning_Self Paced Learning Portals, Instructor or Expert Learning Programs,)                                3 non-null      float64\n",
            " 16  (type_learning_Self Paced Learning Portals, Learning by observing others,)                                          3 non-null      float64\n",
            " 17  (type_learning_Self Paced Learning Portals, Trial and error by doing side projects within the company,)             3 non-null      float64\n",
            " 18  (type_manager_Manager who clearly describes what she/he needs,)                                                     3 non-null      float64\n",
            " 19  (type_manager_Manager who explains what is expected, sets a goal and helps achieve it,)                             3 non-null      float64\n",
            " 20  (type_manager_Manager who sets goal and helps me achieve it,)                                                       3 non-null      float64\n",
            " 21  (type_manager_Manager who sets targets and expects me to achieve it,)                                               3 non-null      float64\n",
            " 22  (type_manager_Manager who sets unrealistic targets,)                                                                3 non-null      float64\n",
            "dtypes: float64(23)\n",
            "memory usage: 684.0 bytes\n"
          ]
        }
      ],
      "source": [
        "cluster_centers.info()"
      ]
    },
    {
      "cell_type": "code",
      "execution_count": 65,
      "metadata": {
        "colab": {
          "base_uri": "https://localhost:8080/",
          "height": 297
        },
        "id": "doG8diGac44t",
        "outputId": "7d734eda-a715-4129-ca99-ec2d0c3e24b9"
      },
      "outputs": [
        {
          "data": {
            "text/html": [
              "<div>\n",
              "<style scoped>\n",
              "    .dataframe tbody tr th:only-of-type {\n",
              "        vertical-align: middle;\n",
              "    }\n",
              "\n",
              "    .dataframe tbody tr th {\n",
              "        vertical-align: top;\n",
              "    }\n",
              "\n",
              "    .dataframe thead tr th {\n",
              "        text-align: left;\n",
              "    }\n",
              "</style>\n",
              "<table border=\"1\" class=\"dataframe\">\n",
              "  <thead>\n",
              "    <tr>\n",
              "      <th></th>\n",
              "      <th>country_India</th>\n",
              "      <th>posgraduate_No I would not be pursuing Higher Education outside of India</th>\n",
              "      <th>posgraduate_No, But if someone could bare the cost I will</th>\n",
              "      <th>posgraduate_Yes, I will earn and do that</th>\n",
              "      <th>work_3_years_No way, 3 years with one employer is crazy</th>\n",
              "      <th>work_3_years_This will be hard to do, but if it is the right company I would try</th>\n",
              "      <th>work_3_years_Will work for 3 years or more</th>\n",
              "      <th>type_employers_Employer who appreciates learning and enables that environment</th>\n",
              "      <th>type_employers_Employer who pushes your limits and doesn't enables learning environment and never rewards you</th>\n",
              "      <th>type_employers_Employer who pushes your limits by enabling an learning environment, and rewards you at the end</th>\n",
              "      <th>...</th>\n",
              "      <th>type_learning_Instructor or Expert Learning Programs, Trial and error by doing side projects within the company</th>\n",
              "      <th>type_learning_Learning by observing others, Trial and error by doing side projects within the company</th>\n",
              "      <th>type_learning_Self Paced Learning Portals, Instructor or Expert Learning Programs</th>\n",
              "      <th>type_learning_Self Paced Learning Portals, Learning by observing others</th>\n",
              "      <th>type_learning_Self Paced Learning Portals, Trial and error by doing side projects within the company</th>\n",
              "      <th>type_manager_Manager who clearly describes what she/he needs</th>\n",
              "      <th>type_manager_Manager who explains what is expected, sets a goal and helps achieve it</th>\n",
              "      <th>type_manager_Manager who sets goal and helps me achieve it</th>\n",
              "      <th>type_manager_Manager who sets targets and expects me to achieve it</th>\n",
              "      <th>type_manager_Manager who sets unrealistic targets</th>\n",
              "    </tr>\n",
              "  </thead>\n",
              "  <tbody>\n",
              "    <tr>\n",
              "      <th>0</th>\n",
              "      <td>1.124047</td>\n",
              "      <td>0.340782</td>\n",
              "      <td>0.500243</td>\n",
              "      <td>0.613495</td>\n",
              "      <td>0.054474</td>\n",
              "      <td>1.071042</td>\n",
              "      <td>0.356685</td>\n",
              "      <td>0.301136</td>\n",
              "      <td>0.028409</td>\n",
              "      <td>0.933684</td>\n",
              "      <td>...</td>\n",
              "      <td>0.307721</td>\n",
              "      <td>0.212242</td>\n",
              "      <td>0.341609</td>\n",
              "      <td>0.202552</td>\n",
              "      <td>0.102150</td>\n",
              "      <td>0.228749</td>\n",
              "      <td>1.015946</td>\n",
              "      <td>0.158480</td>\n",
              "      <td>0.068182</td>\n",
              "      <td>0.017045</td>\n",
              "    </tr>\n",
              "    <tr>\n",
              "      <th>1</th>\n",
              "      <td>1.121648</td>\n",
              "      <td>0.432952</td>\n",
              "      <td>0.282947</td>\n",
              "      <td>0.758232</td>\n",
              "      <td>0.078671</td>\n",
              "      <td>0.613636</td>\n",
              "      <td>0.748288</td>\n",
              "      <td>0.480336</td>\n",
              "      <td>0.038793</td>\n",
              "      <td>0.681806</td>\n",
              "      <td>...</td>\n",
              "      <td>0.261230</td>\n",
              "      <td>0.214258</td>\n",
              "      <td>0.351110</td>\n",
              "      <td>0.215350</td>\n",
              "      <td>0.102678</td>\n",
              "      <td>0.356662</td>\n",
              "      <td>0.743104</td>\n",
              "      <td>0.192081</td>\n",
              "      <td>0.095751</td>\n",
              "      <td>0.021090</td>\n",
              "    </tr>\n",
              "    <tr>\n",
              "      <th>2</th>\n",
              "      <td>1.123066</td>\n",
              "      <td>0.382458</td>\n",
              "      <td>0.293616</td>\n",
              "      <td>0.803023</td>\n",
              "      <td>0.051136</td>\n",
              "      <td>1.100552</td>\n",
              "      <td>0.335227</td>\n",
              "      <td>0.580377</td>\n",
              "      <td>0.032021</td>\n",
              "      <td>0.548662</td>\n",
              "      <td>...</td>\n",
              "      <td>0.259603</td>\n",
              "      <td>0.163155</td>\n",
              "      <td>0.426386</td>\n",
              "      <td>0.208250</td>\n",
              "      <td>0.127717</td>\n",
              "      <td>0.307666</td>\n",
              "      <td>0.697207</td>\n",
              "      <td>0.271146</td>\n",
              "      <td>0.095579</td>\n",
              "      <td>0.019859</td>\n",
              "    </tr>\n",
              "  </tbody>\n",
              "</table>\n",
              "<p>3 rows × 23 columns</p>\n",
              "</div>"
            ],
            "text/plain": [
              "  country_India  \\\n",
              "0      1.124047   \n",
              "1      1.121648   \n",
              "2      1.123066   \n",
              "\n",
              "  posgraduate_No I would not be pursuing Higher Education outside of India  \\\n",
              "0                                           0.340782                         \n",
              "1                                           0.432952                         \n",
              "2                                           0.382458                         \n",
              "\n",
              "  posgraduate_No, But if someone could bare the cost I will  \\\n",
              "0                                           0.500243          \n",
              "1                                           0.282947          \n",
              "2                                           0.293616          \n",
              "\n",
              "  posgraduate_Yes, I will earn and do that  \\\n",
              "0                                 0.613495   \n",
              "1                                 0.758232   \n",
              "2                                 0.803023   \n",
              "\n",
              "  work_3_years_No way, 3 years with one employer is crazy  \\\n",
              "0                                           0.054474        \n",
              "1                                           0.078671        \n",
              "2                                           0.051136        \n",
              "\n",
              "  work_3_years_This will be hard to do, but if it is the right company I would try  \\\n",
              "0                                           1.071042                                 \n",
              "1                                           0.613636                                 \n",
              "2                                           1.100552                                 \n",
              "\n",
              "  work_3_years_Will work for 3 years or more  \\\n",
              "0                                   0.356685   \n",
              "1                                   0.748288   \n",
              "2                                   0.335227   \n",
              "\n",
              "  type_employers_Employer who appreciates learning and enables that environment  \\\n",
              "0                                           0.301136                              \n",
              "1                                           0.480336                              \n",
              "2                                           0.580377                              \n",
              "\n",
              "  type_employers_Employer who pushes your limits and doesn't enables learning environment and never rewards you  \\\n",
              "0                                           0.028409                                                              \n",
              "1                                           0.038793                                                              \n",
              "2                                           0.032021                                                              \n",
              "\n",
              "  type_employers_Employer who pushes your limits by enabling an learning environment, and rewards you at the end  \\\n",
              "0                                           0.933684                                                               \n",
              "1                                           0.681806                                                               \n",
              "2                                           0.548662                                                               \n",
              "\n",
              "   ...  \\\n",
              "0  ...   \n",
              "1  ...   \n",
              "2  ...   \n",
              "\n",
              "  type_learning_Instructor or Expert Learning Programs, Trial and error by doing side projects within the company  \\\n",
              "0                                           0.307721                                                                \n",
              "1                                           0.261230                                                                \n",
              "2                                           0.259603                                                                \n",
              "\n",
              "  type_learning_Learning by observing others, Trial and error by doing side projects within the company  \\\n",
              "0                                           0.212242                                                      \n",
              "1                                           0.214258                                                      \n",
              "2                                           0.163155                                                      \n",
              "\n",
              "  type_learning_Self Paced Learning Portals, Instructor or Expert Learning Programs  \\\n",
              "0                                           0.341609                                  \n",
              "1                                           0.351110                                  \n",
              "2                                           0.426386                                  \n",
              "\n",
              "  type_learning_Self Paced Learning Portals, Learning by observing others  \\\n",
              "0                                           0.202552                        \n",
              "1                                           0.215350                        \n",
              "2                                           0.208250                        \n",
              "\n",
              "  type_learning_Self Paced Learning Portals, Trial and error by doing side projects within the company  \\\n",
              "0                                           0.102150                                                     \n",
              "1                                           0.102678                                                     \n",
              "2                                           0.127717                                                     \n",
              "\n",
              "  type_manager_Manager who clearly describes what she/he needs  \\\n",
              "0                                           0.228749             \n",
              "1                                           0.356662             \n",
              "2                                           0.307666             \n",
              "\n",
              "  type_manager_Manager who explains what is expected, sets a goal and helps achieve it  \\\n",
              "0                                           1.015946                                     \n",
              "1                                           0.743104                                     \n",
              "2                                           0.697207                                     \n",
              "\n",
              "  type_manager_Manager who sets goal and helps me achieve it  \\\n",
              "0                                           0.158480           \n",
              "1                                           0.192081           \n",
              "2                                           0.271146           \n",
              "\n",
              "  type_manager_Manager who sets targets and expects me to achieve it  \\\n",
              "0                                           0.068182                   \n",
              "1                                           0.095751                   \n",
              "2                                           0.095579                   \n",
              "\n",
              "  type_manager_Manager who sets unrealistic targets  \n",
              "0                                          0.017045  \n",
              "1                                          0.021090  \n",
              "2                                          0.019859  \n",
              "\n",
              "[3 rows x 23 columns]"
            ]
          },
          "execution_count": 65,
          "metadata": {},
          "output_type": "execute_result"
        }
      ],
      "source": [
        "cluster_centers = scaler.inverse_transform(cluster_centers)\n",
        "cluster_centers = pd.DataFrame(data = cluster_centers, columns = [X_train.columns])\n",
        "cluster_centers"
      ]
    },
    {
      "cell_type": "code",
      "execution_count": 66,
      "metadata": {
        "colab": {
          "base_uri": "https://localhost:8080/"
        },
        "id": "7xkWv_qAq-Oy",
        "outputId": "953a7f42-604d-459b-fea7-0f68c4428a29"
      },
      "outputs": [
        {
          "data": {
            "text/plain": [
              "(3, 23)"
            ]
          },
          "execution_count": 66,
          "metadata": {},
          "output_type": "execute_result"
        }
      ],
      "source": [
        "cluster_centers.shape"
      ]
    },
    {
      "cell_type": "markdown",
      "metadata": {
        "id": "v7O8bz2Jfk8Z"
      },
      "source": [
        "## Gráfica de KMEANS"
      ]
    },
    {
      "cell_type": "code",
      "execution_count": 67,
      "metadata": {
        "colab": {
          "base_uri": "https://localhost:8080/",
          "height": 564
        },
        "id": "yNub8dWDoHYb",
        "outputId": "f9761452-16e2-4267-de30-9404003dfd88"
      },
      "outputs": [
        {
          "data": {
            "image/png": "[encoded data removed]",
            "text/plain": [
              "<Figure size 800x600 with 2 Axes>"
            ]
          },
          "metadata": {},
          "output_type": "display_data"
        }
      ],
      "source": [
        "import matplotlib.pyplot as plt\n",
        "from sklearn.decomposition import PCA\n",
        "\n",
        "# Reducir dimensionalidad para graficar en 2D\n",
        "pca = PCA(n_components=2)\n",
        "pca.fit(pca_df)\n",
        "pca_features = pca.transform(pca_df)\n",
        "\n",
        "# Graficar los puntos de datos\n",
        "plt.figure(figsize=(8, 6))\n",
        "plt.scatter(pca_features[:, 0], pca_features[:, 1], c=labels, cmap='viridis', alpha=0.5)\n",
        "plt.xlabel('Componente Principal 1')\n",
        "plt.ylabel('Componente Principal 2')\n",
        "plt.title('Resultados de KMeans')\n",
        "plt.colorbar(label='Cluster')\n",
        "plt.grid(True)\n",
        "\n",
        "# Graficar los centroides\n",
        "cluster_centers_pca = pca.fit_transform(cluster_centers)\n",
        "plt.scatter(cluster_centers_pca[:, 0], cluster_centers_pca[:, 1], marker='x', s=100, c='r', label='Centroides')\n",
        "plt.legend()\n",
        "plt.show()\n"
      ]
    },
    {
      "cell_type": "markdown",
      "metadata": {
        "id": "pOHqHst9vH3V"
      },
      "source": [
        "Aquí los tres clusters que asignamos, nos muestran una dispersión correcta visualmente. Sin embargo, es importante observar las métricas también para evaluar la calidad de estos clusters."
      ]
    },
    {
      "cell_type": "markdown",
      "metadata": {
        "id": "CERluRjO1Zf0"
      },
      "source": [
        "## Métricas y evaluación del modelo"
      ]
    },
    {
      "cell_type": "markdown",
      "metadata": {
        "id": "XUdWpIt818NG"
      },
      "source": [
        "El método de Silueta se encuentra entre -1, 0 y 1.\n",
        "Donde 1 significa un cluster bien asignado, -1 que no está bien asignado y 0 que no es tampoco muy bueno."
      ]
    },
    {
      "cell_type": "code",
      "execution_count": 68,
      "metadata": {
        "colab": {
          "base_uri": "https://localhost:8080/"
        },
        "id": "47Ev8MYR1bq_",
        "outputId": "ed1c2572-7ac4-454a-ffc0-7e56aef7d73e"
      },
      "outputs": [
        {
          "name": "stdout",
          "output_type": "stream",
          "text": [
            "El coeficiente de silueta es de 0.1434055688356749.\n"
          ]
        }
      ],
      "source": [
        "#Método de silueta\n",
        "score = silhouette_score(X_train, labels, metric='euclidean')\n",
        "print(f'El coeficiente de silueta es de {score}.')"
      ]
    },
    {
      "cell_type": "markdown",
      "metadata": {
        "id": "sQkfUl3J3CoM"
      },
      "source": [
        "En cuanto mayor sea el valor de Calinski-Harabasz, más separados y distintos son los clústeres entre sí."
      ]
    },
    {
      "cell_type": "code",
      "execution_count": 69,
      "metadata": {
        "colab": {
          "base_uri": "https://localhost:8080/"
        },
        "id": "H51xckQ_ivQ2",
        "outputId": "963eef00-fcc4-42dc-b586-d406ea98333a"
      },
      "outputs": [
        {
          "name": "stdout",
          "output_type": "stream",
          "text": [
            "El coeficiente del índice Calinski-Harabasz es de 27.27233104764346.\n"
          ]
        }
      ],
      "source": [
        "#método calinski_harabasz\n",
        "ch_score = calinski_harabasz_score(X_train, labels)\n",
        "print(f'El coeficiente del índice Calinski-Harabasz es de {ch_score}.')"
      ]
    },
    {
      "cell_type": "markdown",
      "metadata": {
        "id": "zfOqpDrV3LDe"
      },
      "source": [
        "Cuanto más bajo sea el valor de Davies-Bouldin, más separados y distintos son los clústeres entre sí."
      ]
    },
    {
      "cell_type": "code",
      "execution_count": 70,
      "metadata": {
        "colab": {
          "base_uri": "https://localhost:8080/"
        },
        "id": "LZK4oGA1iwjm",
        "outputId": "805460d0-5936-4661-c92a-1bab12b9a8c1"
      },
      "outputs": [
        {
          "name": "stdout",
          "output_type": "stream",
          "text": [
            "El coeficiente del índice Davies-Bouldin es de 2.224883852357643.\n"
          ]
        }
      ],
      "source": [
        "db_score = davies_bouldin_score(X_train, labels)\n",
        "print(f'El coeficiente del índice Davies-Bouldin es de {db_score}.')"
      ]
    },
    {
      "cell_type": "markdown",
      "metadata": {
        "id": "3vRE9Og9jKAs"
      },
      "source": [
        "## Método DBSCAN"
      ]
    },
    {
      "cell_type": "code",
      "execution_count": 71,
      "metadata": {
        "colab": {
          "base_uri": "https://localhost:8080/",
          "height": 430
        },
        "id": "32zWItzGjOkU",
        "outputId": "8bdb99a1-4d2e-49a7-bc48-85a6498b6f47"
      },
      "outputs": [
        {
          "data": {
            "image/png": "[encoded data removed]",
            "text/plain": [
              "<Figure size 640x480 with 1 Axes>"
            ]
          },
          "metadata": {},
          "output_type": "display_data"
        }
      ],
      "source": [
        "from sklearn.cluster import DBSCAN\n",
        "db = DBSCAN(eps=0.3,\n",
        "            min_samples=5,\n",
        "            metric='euclidean')\n",
        "\n",
        "y_db = db.fit_predict(X_train_scaled)\n",
        "\n",
        "plt.scatter(X_train_scaled[y_db==0,0],\n",
        "            X_train_scaled[y_db==0,1],\n",
        "            c='lightblue',\n",
        "            edgecolor='black',\n",
        "            marker='o',\n",
        "            s=40,\n",
        "            label='cluster 1')\n",
        "plt.scatter(X_train_scaled[y_db==1,0],\n",
        "            X_train_scaled[y_db==1,1],\n",
        "            c='red',\n",
        "            edgecolor='black',\n",
        "            marker='s',\n",
        "            s=40,\n",
        "            label='cluster 2')\n",
        "\n",
        "plt.legend()\n",
        "plt.show()"
      ]
    },
    {
      "cell_type": "markdown",
      "metadata": {
        "id": "rr7HuqWKv-Yd"
      },
      "source": [
        "A diferencia del método K-MEANS, el método DBSCAN me ayuda a entender más la forma y el cluster de manera visual-espacial.\n",
        "\n",
        "Podemos observar que tenemos datos que aunque ya están en un cluster asignado, pueden todavía no tener mucha relación al cluster que fueron asignado.\n",
        "\n",
        "Las dispersiones no son drásticas para ningún tipo de media luna, pero esto puede ayudar a explicar aquellos datos que son diferentes."
      ]
    },
    {
      "cell_type": "code",
      "execution_count": 49,
      "metadata": {
        "colab": {
          "base_uri": "https://localhost:8080/"
        },
        "id": "Y7De0cJjx4Yi",
        "outputId": "d6ec96d1-482b-4792-ca6d-a226b791d761"
      },
      "outputs": [
        {
          "name": "stdout",
          "output_type": "stream",
          "text": [
            "El promedio del índice de silueta es: -0.1170589137683037\n"
          ]
        }
      ],
      "source": [
        "silhouette_avg = silhouette_score(X_train_scaled, y_db)\n",
        "\n",
        "print(\"El promedio del índice de silueta es:\", silhouette_avg)"
      ]
    },
    {
      "cell_type": "code",
      "execution_count": 50,
      "metadata": {
        "colab": {
          "base_uri": "https://localhost:8080/"
        },
        "id": "pWFRX-t60gGT",
        "outputId": "5ef5a885-31cf-43ed-daaf-a99078be5c2e"
      },
      "outputs": [
        {
          "name": "stdout",
          "output_type": "stream",
          "text": [
            "El coeficiente del índice Calinski-Harabasz es de 16.30284566864065.\n"
          ]
        }
      ],
      "source": [
        "#método calinski_harabasz\n",
        "ch_score_2 = calinski_harabasz_score(X_train_scaled, labels)\n",
        "print(f'El coeficiente del índice Calinski-Harabasz es de {ch_score_2}.')"
      ]
    },
    {
      "cell_type": "code",
      "execution_count": 51,
      "metadata": {
        "colab": {
          "base_uri": "https://localhost:8080/"
        },
        "id": "ZPfMKpmQ0gDq",
        "outputId": "3df82333-63cc-4c8e-dee0-7a9f8f542fbd"
      },
      "outputs": [
        {
          "name": "stdout",
          "output_type": "stream",
          "text": [
            "El coeficiente del índice Davies-Bouldin es de 2.852185995872033.\n"
          ]
        }
      ],
      "source": [
        "db_score_2 = davies_bouldin_score(X_train_scaled, labels)\n",
        "print(f'El coeficiente del índice Davies-Bouldin es de {db_score_2}.')"
      ]
    },
    {
      "cell_type": "markdown",
      "metadata": {
        "id": "0P7GcQKhexHj"
      },
      "source": [
        "# Lineamientos del proyecto"
      ]
    },
    {
      "cell_type": "markdown",
      "metadata": {
        "id": "4j9DPVZz1kq4"
      },
      "source": [
        "1. Selecciona uno de los siguientes *datasets*:\n",
        "  - *Reviews* de aplicaciones de la Google Play Store: https://www.kaggle.com/datasets/lava18/google-play-store-apps\n",
        "  - Estadísticas demográficas de los ganadores del premio Oscar de la Academia: https://www.kaggle.com/datasets/fmejia21/demographics-of-academy-awards-oscars-winners\n",
        "  - Aspiraciones profesionales de la generación Z: https://www.kaggle.com/datasets/kulturehire/understanding-career-aspirations-of-genz\n",
        "\n",
        "Cada uno representa un *dataset*, un problema y una forma diferente de abordarlo. Tu tarea es identificar las técnicas y modelos que podrías usar para tu proyecto.\n",
        "\n",
        "2. Debes hacer un análisis exploratorio y limpieza de los datos. Usa las ténicas que creas convenientes.\n",
        "\n",
        "3. Entrena el modelo de *Machine Learning*, procesamiento de lenguaje natural o red neuronal que creas adecuado.\n",
        "\n",
        "4. Genera por lo menos dos gráficas y dos métricas de rendimiento; explica las puntuaciones de rendimiento que amerite tu problema. Todas las gráficas de rendimiento que realices deben tener leyendas, colores y títulos personalizados por ti.\n",
        "\n",
        "  - Además, antes de subir el modelo a \"producción\", deberás realizar un proceso de ensambles (*ensemblings*) y de ajuste de hiperparámetros o *tuning* para intentar mejorar la precisión y disminuir la varianza de tu modelo.\n",
        "\n",
        "5. Construye una API REST en la que cualquier usuario pueda mandar datos y que esta misma devuelva la predicción del modelo que has hecho. La API debe estar en la nube, ya sea en un servicio como Netlify o Ngrok, para que pueda ser consultada desde internet.\n",
        "\n",
        "6. Genera una presentación del problema y del modelo de solución que planteas. Muestra gráficas, datos de rendimiento y explicaciones. Esta presentación debe estar enfocada a personas que no sepan mucho de ciencia de datos e inteligencia artificial.\n",
        "\n",
        "7. **Solamente se recibirán trabajos subidos a tu cuenta de GitHub con un README.md apropiado que explique tu proyecto**.\n",
        "\n",
        "## Criterios de evaluación\n",
        "\n",
        "| Actividad | Porcentaje | Observaciones | Punto parcial\n",
        "| -- | -- | -- | -- |\n",
        "| Actividad 1. Limpieza y EDA | 20 | Realiza todas las tareas necesarias para hacer el EDA y la limpieza correcta, dependiendo de la problemática. Debes hacer como mínimo el análisis de completitud, escalamiento (si aplica) y tokenización (si aplica). | Realizaste solo algunas tareas de exploración y limpieza y el modelo se muestra aún con oportunidad de completitud, escalamiento y/o mejora. |\n",
        "| Actividad 2. Entrenamiento del modelo | 20 | Elige el modelo y algoritmo adecuados para tu problema, entrénalo con los datos ya limpios y genera algunas predicciones de prueba. | No has realizado predicciones de prueba para tu modelo de ML y/o tu modelo muestra una precisión menor al 60 %. |\n",
        "| Actividad 3. Graficación y métricas | 20 | Genera por lo menos dos gráficas y dos muestras de métricas que permitan visualizar el rendimiento y precisión del modelo que construiste. Además, realizaste los procesos de *tuning* y ensambles adecuados para tu problema. | Las gráficas no tienen leyendas y colores customizados, solo muestras una gráfica o no realizaste el *tuning* de hiperparámetros.\n",
        "| Actividad 4. API REST | 20 | Generaste con éxito un *link* público en el que, por método POST, se puede mandar información y la API REST devuelve una predicción junto con el porcentaje de confianza de esta misma. | N/A\n",
        "| Actividad 5. Presentación | 20 | Genera una presentación en la que establezcas como mínimo: el problema, proceso de solución, metodologías usadas, gráficas de rendimiento, demostración del modelo y aprendizajes obtenidos. Debes redactarla con términos que pueda entender cualquier persona, no solo científicos de datos. | La presentación no expone con claridad o en términos coloquiales el proceso de creación del modelo, sus ventajas y muestras de rendimiento.\n",
        "\n",
        "**Mucho éxito en tu camino como Data Scientist.**"
      ]
    }
  ],
  "metadata": {
    "colab": {
      "collapsed_sections": [
        "yJvwYJaeu7fr",
        "hCC6Ht_WvGwL",
        "xscjIzMHvM-J",
        "XjfNGvam1HfB",
        "Zdpl2b3dWui9",
        "SBdHIiAekISy",
        "8r7hG0yDc6c1",
        "uMr5M0-EvQzn",
        "v7O8bz2Jfk8Z",
        "CERluRjO1Zf0",
        "3vRE9Og9jKAs",
        "0P7GcQKhexHj"
      ],
      "provenance": []
    },
    "kernelspec": {
      "display_name": "Python 3",
      "name": "python3"
    },
    "language_info": {
      "codemirror_mode": {
        "name": "ipython",
        "version": 3
      },
      "file_extension": ".py",
      "mimetype": "text/x-python",
      "name": "python",
      "nbconvert_exporter": "python",
      "pygments_lexer": "ipython3",
      "version": "3.11.8"
    }
  },
  "nbformat": 4,
  "nbformat_minor": 0
}
